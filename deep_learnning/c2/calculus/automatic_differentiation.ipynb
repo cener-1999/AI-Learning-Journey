{
 "cells": [
  {
   "cell_type": "code",
   "id": "initial_id",
   "metadata": {
    "collapsed": true,
    "ExecuteTime": {
     "end_time": "2024-09-01T18:43:07.766606Z",
     "start_time": "2024-09-01T18:43:07.763608Z"
    }
   },
   "source": "import torch",
   "outputs": [],
   "execution_count": 35
  },
  {
   "metadata": {
    "ExecuteTime": {
     "end_time": "2024-09-01T18:43:07.797840Z",
     "start_time": "2024-09-01T18:43:07.793460Z"
    }
   },
   "cell_type": "code",
   "source": [
    "x = torch.arange(4.0)\n",
    "x"
   ],
   "id": "d6d159962d6088df",
   "outputs": [
    {
     "data": {
      "text/plain": [
       "tensor([0., 1., 2., 3.])"
      ]
     },
     "execution_count": 36,
     "metadata": {},
     "output_type": "execute_result"
    }
   ],
   "execution_count": 36
  },
  {
   "metadata": {
    "ExecuteTime": {
     "end_time": "2024-09-01T18:43:07.801367Z",
     "start_time": "2024-09-01T18:43:07.799211Z"
    }
   },
   "cell_type": "code",
   "source": [
    "x.requires_grad_(True)  # 标识一个tensor是否需要在计算中保留梯度信息\n",
    "x.grad"
   ],
   "id": "64e56296eba0d7a3",
   "outputs": [],
   "execution_count": 37
  },
  {
   "metadata": {
    "ExecuteTime": {
     "end_time": "2024-09-01T18:43:07.806352Z",
     "start_time": "2024-09-01T18:43:07.802356Z"
    }
   },
   "cell_type": "code",
   "source": [
    "y = 2 * torch.dot(x, x)\n",
    "y"
   ],
   "id": "91b4930b676ef7c0",
   "outputs": [
    {
     "data": {
      "text/plain": [
       "tensor(28., grad_fn=<MulBackward0>)"
      ]
     },
     "execution_count": 38,
     "metadata": {},
     "output_type": "execute_result"
    }
   ],
   "execution_count": 38
  },
  {
   "metadata": {
    "ExecuteTime": {
     "end_time": "2024-09-01T18:43:07.811342Z",
     "start_time": "2024-09-01T18:43:07.807928Z"
    }
   },
   "cell_type": "code",
   "source": [
    "y.backward()\n",
    "x.grad"
   ],
   "id": "30b074b91f9a463d",
   "outputs": [
    {
     "data": {
      "text/plain": [
       "tensor([ 0.,  4.,  8., 12.])"
      ]
     },
     "execution_count": 39,
     "metadata": {},
     "output_type": "execute_result"
    }
   ],
   "execution_count": 39
  },
  {
   "metadata": {
    "ExecuteTime": {
     "end_time": "2024-09-01T18:43:07.815810Z",
     "start_time": "2024-09-01T18:43:07.812402Z"
    }
   },
   "cell_type": "code",
   "source": "x.grad == 4 * x",
   "id": "9c39cf0f66e65f00",
   "outputs": [
    {
     "data": {
      "text/plain": [
       "tensor([True, True, True, True])"
      ]
     },
     "execution_count": 40,
     "metadata": {},
     "output_type": "execute_result"
    }
   ],
   "execution_count": 40
  },
  {
   "metadata": {},
   "cell_type": "markdown",
   "source": "## Backward for Non-Scalar Variables",
   "id": "92926c44034574ed"
  },
  {
   "metadata": {
    "ExecuteTime": {
     "end_time": "2024-09-01T18:43:07.820413Z",
     "start_time": "2024-09-01T18:43:07.816694Z"
    }
   },
   "cell_type": "code",
   "source": [
    "x.grad.zero_()\n",
    "y = x.sum()\n",
    "y.backward()\n",
    "x.grad"
   ],
   "id": "7b14fe745a2cb819",
   "outputs": [
    {
     "data": {
      "text/plain": [
       "tensor([1., 1., 1., 1.])"
      ]
     },
     "execution_count": 41,
     "metadata": {},
     "output_type": "execute_result"
    }
   ],
   "execution_count": 41
  },
  {
   "metadata": {
    "ExecuteTime": {
     "end_time": "2024-09-01T18:43:07.825689Z",
     "start_time": "2024-09-01T18:43:07.822055Z"
    }
   },
   "cell_type": "code",
   "source": [
    "x.grad.zero_()\n",
    "y = x * x\n",
    "y.backward(torch.ones(len(x)))\n",
    "x.grad"
   ],
   "id": "c4c17bbba5dd7f42",
   "outputs": [
    {
     "data": {
      "text/plain": [
       "tensor([0., 2., 4., 6.])"
      ]
     },
     "execution_count": 42,
     "metadata": {},
     "output_type": "execute_result"
    }
   ],
   "execution_count": 42
  },
  {
   "metadata": {},
   "cell_type": "markdown",
   "source": "## Detaching Computation",
   "id": "a416b0a9540d5121"
  },
  {
   "metadata": {
    "ExecuteTime": {
     "end_time": "2024-09-01T18:43:07.829767Z",
     "start_time": "2024-09-01T18:43:07.826451Z"
    }
   },
   "cell_type": "code",
   "source": [
    "x.grad.zero_()\n",
    "y = x * x\n",
    "u = y.detach()\n",
    "z = u * x\n",
    "\n",
    "z.sum().backward()\n",
    "x.grad == u"
   ],
   "id": "61670fe295c1b649",
   "outputs": [
    {
     "data": {
      "text/plain": [
       "tensor([True, True, True, True])"
      ]
     },
     "execution_count": 43,
     "metadata": {},
     "output_type": "execute_result"
    }
   ],
   "execution_count": 43
  },
  {
   "metadata": {
    "ExecuteTime": {
     "end_time": "2024-09-01T18:43:07.833638Z",
     "start_time": "2024-09-01T18:43:07.830616Z"
    }
   },
   "cell_type": "code",
   "source": [
    "x.grad.zero_()\n",
    "y.sum().backward()\n",
    "x.grad == 2 * x"
   ],
   "id": "4d3b5310f388589f",
   "outputs": [
    {
     "data": {
      "text/plain": [
       "tensor([True, True, True, True])"
      ]
     },
     "execution_count": 44,
     "metadata": {},
     "output_type": "execute_result"
    }
   ],
   "execution_count": 44
  },
  {
   "metadata": {},
   "cell_type": "markdown",
   "source": "## Gradients and Python Control Flow",
   "id": "330f59ba4c78cdf3"
  },
  {
   "metadata": {
    "ExecuteTime": {
     "end_time": "2024-09-01T18:50:40.765515Z",
     "start_time": "2024-09-01T18:50:40.762692Z"
    }
   },
   "cell_type": "code",
   "source": [
    "def f(a):\n",
    "    b = a * 2\n",
    "    while b.norm() < 1000: # L2范数是向量元素平方和的平方根\n",
    "        b = b * 2\n",
    "    if b.sum() > 0:\n",
    "        c = b\n",
    "    else:\n",
    "        c = 100 * b\n",
    "    return c"
   ],
   "id": "25d8b161c2973151",
   "outputs": [],
   "execution_count": 47
  },
  {
   "metadata": {
    "ExecuteTime": {
     "end_time": "2024-09-01T18:50:41.693339Z",
     "start_time": "2024-09-01T18:50:41.685896Z"
    }
   },
   "cell_type": "code",
   "source": [
    "a = torch.randn(size=(), requires_grad=True)\n",
    "d = f(a)\n",
    "d.backward()"
   ],
   "id": "df277f3bcd1c718e",
   "outputs": [],
   "execution_count": 48
  },
  {
   "metadata": {
    "ExecuteTime": {
     "end_time": "2024-09-01T18:50:42.518775Z",
     "start_time": "2024-09-01T18:50:42.512633Z"
    }
   },
   "cell_type": "code",
   "source": "a.grad == d/a",
   "id": "803d4eba9aab3735",
   "outputs": [
    {
     "data": {
      "text/plain": [
       "tensor(True)"
      ]
     },
     "execution_count": 49,
     "metadata": {},
     "output_type": "execute_result"
    }
   ],
   "execution_count": 49
  },
  {
   "metadata": {
    "ExecuteTime": {
     "end_time": "2024-09-01T18:52:07.730489Z",
     "start_time": "2024-09-01T18:52:07.724666Z"
    }
   },
   "cell_type": "code",
   "source": "a.shape",
   "id": "9796053696cca93a",
   "outputs": [
    {
     "data": {
      "text/plain": [
       "torch.Size([])"
      ]
     },
     "execution_count": 52,
     "metadata": {},
     "output_type": "execute_result"
    }
   ],
   "execution_count": 52
  }
 ],
 "metadata": {
  "kernelspec": {
   "display_name": "Python 3",
   "language": "python",
   "name": "python3"
  },
  "language_info": {
   "codemirror_mode": {
    "name": "ipython",
    "version": 2
   },
   "file_extension": ".py",
   "mimetype": "text/x-python",
   "name": "python",
   "nbconvert_exporter": "python",
   "pygments_lexer": "ipython2",
   "version": "2.7.6"
  }
 },
 "nbformat": 4,
 "nbformat_minor": 5
}
