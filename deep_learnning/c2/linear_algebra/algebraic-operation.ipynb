{
 "cells": [
  {
   "metadata": {},
   "cell_type": "markdown",
   "source": [
    "回答:\n",
    "1. 张量之间的 + , -, * , / 如何运算，有什么性质？\n",
    "2. 什么是降维？为什么需要降维？如何计算？一个张量按照某一行降维后的结果是什么？在Pytorch中如何计算\n",
    "3. 向量点积, 矩阵-向量积, 矩阵-矩阵积的含义？如何计算？在Pytorch中如何计算？\n",
    "4. 什么是范式，举例并解释常用范式的计算, 在DL中的应用场景, 在Pytorch中如何计算？"
   ],
   "id": "e4a1e36776bfccae"
  },
  {
   "metadata": {},
   "cell_type": "code",
   "outputs": [
    {
     "data": {
      "text/plain": [
       "(tensor([[ 0.,  1.,  2.,  3.],\n",
       "         [ 4.,  5.,  6.,  7.],\n",
       "         [ 8.,  9., 10., 11.],\n",
       "         [12., 13., 14., 15.],\n",
       "         [16., 17., 18., 19.]]),\n",
       " tensor([[ 0.,  2.,  4.,  6.],\n",
       "         [ 8., 10., 12., 14.],\n",
       "         [16., 18., 20., 22.],\n",
       "         [24., 26., 28., 30.],\n",
       "         [32., 34., 36., 38.]]),\n",
       " tensor([[  0.,   1.,   4.,   9.],\n",
       "         [ 16.,  25.,  36.,  49.],\n",
       "         [ 64.,  81., 100., 121.],\n",
       "         [144., 169., 196., 225.],\n",
       "         [256., 289., 324., 361.]]))"
      ]
     },
     "execution_count": 2,
     "metadata": {},
     "output_type": "execute_result"
    }
   ],
   "execution_count": 2,
   "source": [
    "import torch\n",
    "\n",
    "### Basic Properties of Tensor Arithmetic\n",
    "A = torch.arange(20, dtype=torch.float32).reshape(5, 4)\n",
    "B = A.clone()\n",
    "A, A + B, A * B"
   ],
   "id": "initial_id"
  },
  {
   "metadata": {
    "ExecuteTime": {
     "end_time": "2024-08-29T17:12:47.413235Z",
     "start_time": "2024-08-29T17:12:47.406963Z"
    }
   },
   "cell_type": "code",
   "source": [
    "a = 2\n",
    "X = torch.arange(24).reshape(2, 3, 4)\n",
    "a + X, (a * X).shape"
   ],
   "id": "1a103ff89c860a83",
   "outputs": [
    {
     "data": {
      "text/plain": [
       "(tensor([[[ 2,  3,  4,  5],\n",
       "          [ 6,  7,  8,  9],\n",
       "          [10, 11, 12, 13]],\n",
       " \n",
       "         [[14, 15, 16, 17],\n",
       "          [18, 19, 20, 21],\n",
       "          [22, 23, 24, 25]]]),\n",
       " torch.Size([2, 3, 4]))"
      ]
     },
     "execution_count": 4,
     "metadata": {},
     "output_type": "execute_result"
    }
   ],
   "execution_count": 4
  },
  {
   "metadata": {
    "ExecuteTime": {
     "end_time": "2024-08-29T17:14:50.909308Z",
     "start_time": "2024-08-29T17:14:50.894808Z"
    }
   },
   "cell_type": "code",
   "source": [
    "### Reduction\n",
    "x = torch.arange(4, dtype=torch.float32)\n",
    "x, x.sum()"
   ],
   "id": "813a9eb9d9fb92b6",
   "outputs": [
    {
     "data": {
      "text/plain": [
       "(tensor([0., 1., 2., 3.]), tensor(6.))"
      ]
     },
     "execution_count": 5,
     "metadata": {},
     "output_type": "execute_result"
    }
   ],
   "execution_count": 5
  },
  {
   "metadata": {
    "ExecuteTime": {
     "end_time": "2024-08-29T17:15:33.790310Z",
     "start_time": "2024-08-29T17:15:33.785959Z"
    }
   },
   "cell_type": "code",
   "source": "A.shape, A.sum()",
   "id": "18bfb2b85bb6b3f",
   "outputs": [
    {
     "data": {
      "text/plain": [
       "(torch.Size([5, 4]), tensor(190.))"
      ]
     },
     "execution_count": 6,
     "metadata": {},
     "output_type": "execute_result"
    }
   ],
   "execution_count": 6
  },
  {
   "metadata": {
    "ExecuteTime": {
     "end_time": "2024-08-29T17:17:48.974275Z",
     "start_time": "2024-08-29T17:17:48.962073Z"
    }
   },
   "cell_type": "code",
   "source": [
    "A_sum_axis0 = A.sum(dim=0)\n",
    "A_sum_axis0, A_sum_axis0.shape"
   ],
   "id": "b81567935e4e647f",
   "outputs": [
    {
     "data": {
      "text/plain": [
       "(tensor([40., 45., 50., 55.]), torch.Size([4]))"
      ]
     },
     "execution_count": 8,
     "metadata": {},
     "output_type": "execute_result"
    }
   ],
   "execution_count": 8
  },
  {
   "metadata": {
    "ExecuteTime": {
     "end_time": "2024-08-29T17:18:04.683898Z",
     "start_time": "2024-08-29T17:18:04.678013Z"
    }
   },
   "cell_type": "code",
   "source": [
    "A_sum_axis1 = A.sum(dim=1)\n",
    "A_sum_axis1, A_sum_axis1.shape"
   ],
   "id": "a730a1d54e99b708",
   "outputs": [
    {
     "data": {
      "text/plain": [
       "(tensor([ 6., 22., 38., 54., 70.]), torch.Size([5]))"
      ]
     },
     "execution_count": 9,
     "metadata": {},
     "output_type": "execute_result"
    }
   ],
   "execution_count": 9
  },
  {
   "metadata": {
    "ExecuteTime": {
     "end_time": "2024-08-29T17:18:52.426613Z",
     "start_time": "2024-08-29T17:18:52.421765Z"
    }
   },
   "cell_type": "code",
   "source": "A.sum(dim=[0, 1])",
   "id": "7b93fdd2b714e5e8",
   "outputs": [
    {
     "data": {
      "text/plain": [
       "tensor(190.)"
      ]
     },
     "execution_count": 10,
     "metadata": {},
     "output_type": "execute_result"
    }
   ],
   "execution_count": 10
  },
  {
   "metadata": {
    "ExecuteTime": {
     "end_time": "2024-08-29T17:19:40.069289Z",
     "start_time": "2024-08-29T17:19:40.058673Z"
    }
   },
   "cell_type": "code",
   "source": "A.mean(), A.sum()/A.numel()",
   "id": "7e64d132bce2a7bd",
   "outputs": [
    {
     "data": {
      "text/plain": [
       "(tensor(9.5000), tensor(9.5000))"
      ]
     },
     "execution_count": 11,
     "metadata": {},
     "output_type": "execute_result"
    }
   ],
   "execution_count": 11
  },
  {
   "metadata": {
    "ExecuteTime": {
     "end_time": "2024-08-29T17:20:28.112904Z",
     "start_time": "2024-08-29T17:20:28.106439Z"
    }
   },
   "cell_type": "code",
   "source": "A.mean(dim=0), A.sum(dim=0) / A.shape[0]",
   "id": "eea7c827f960c27f",
   "outputs": [
    {
     "data": {
      "text/plain": [
       "(tensor([ 8.,  9., 10., 11.]), tensor([ 8.,  9., 10., 11.]))"
      ]
     },
     "execution_count": 14,
     "metadata": {},
     "output_type": "execute_result"
    }
   ],
   "execution_count": 14
  },
  {
   "metadata": {
    "ExecuteTime": {
     "end_time": "2024-08-29T17:21:36.057878Z",
     "start_time": "2024-08-29T17:21:36.053487Z"
    }
   },
   "cell_type": "code",
   "source": [
    "#### Non-Reduction Sum\n",
    "sum_A = A.sum(dim=1, keepdim=True)\n",
    "sum_A"
   ],
   "id": "d184f0c4113ac6f",
   "outputs": [
    {
     "data": {
      "text/plain": [
       "tensor([[ 6.],\n",
       "        [22.],\n",
       "        [38.],\n",
       "        [54.],\n",
       "        [70.]])"
      ]
     },
     "execution_count": 17,
     "metadata": {},
     "output_type": "execute_result"
    }
   ],
   "execution_count": 17
  },
  {
   "metadata": {
    "ExecuteTime": {
     "end_time": "2024-08-29T17:21:58.624419Z",
     "start_time": "2024-08-29T17:21:58.620144Z"
    }
   },
   "cell_type": "code",
   "source": "A / sum_A",
   "id": "d0b98aacd2a1760d",
   "outputs": [
    {
     "data": {
      "text/plain": [
       "tensor([[0.0000, 0.1667, 0.3333, 0.5000],\n",
       "        [0.1818, 0.2273, 0.2727, 0.3182],\n",
       "        [0.2105, 0.2368, 0.2632, 0.2895],\n",
       "        [0.2222, 0.2407, 0.2593, 0.2778],\n",
       "        [0.2286, 0.2429, 0.2571, 0.2714]])"
      ]
     },
     "execution_count": 18,
     "metadata": {},
     "output_type": "execute_result"
    }
   ],
   "execution_count": 18
  },
  {
   "metadata": {
    "ExecuteTime": {
     "end_time": "2024-08-29T17:22:53.745615Z",
     "start_time": "2024-08-29T17:22:53.736531Z"
    }
   },
   "cell_type": "code",
   "source": "A.cumsum(dim=0)",
   "id": "a652e5f2f0af6966",
   "outputs": [
    {
     "data": {
      "text/plain": [
       "tensor([[ 0.,  1.,  2.,  3.],\n",
       "        [ 4.,  6.,  8., 10.],\n",
       "        [12., 15., 18., 21.],\n",
       "        [24., 28., 32., 36.],\n",
       "        [40., 45., 50., 55.]])"
      ]
     },
     "execution_count": 19,
     "metadata": {},
     "output_type": "execute_result"
    }
   ],
   "execution_count": 19
  },
  {
   "metadata": {
    "ExecuteTime": {
     "end_time": "2024-08-29T17:28:44.252874Z",
     "start_time": "2024-08-29T17:28:44.248299Z"
    }
   },
   "cell_type": "code",
   "source": [
    "### Dot Products\n",
    "x = torch.arange(4, dtype=torch.float32)\n",
    "y = torch.ones(4, dtype=torch.float32)\n",
    "x, y, torch.dot(x, y)"
   ],
   "id": "d824f44c34802243",
   "outputs": [
    {
     "data": {
      "text/plain": [
       "(tensor([0., 1., 2., 3.]), tensor([1., 1., 1., 1.]), tensor(6.))"
      ]
     },
     "execution_count": 21,
     "metadata": {},
     "output_type": "execute_result"
    }
   ],
   "execution_count": 21
  },
  {
   "metadata": {
    "ExecuteTime": {
     "end_time": "2024-08-29T17:29:23.163847Z",
     "start_time": "2024-08-29T17:29:23.156541Z"
    }
   },
   "cell_type": "code",
   "source": "torch.sum(x * y)",
   "id": "7e4ebdae9b4fbc28",
   "outputs": [
    {
     "data": {
      "text/plain": [
       "tensor(6.)"
      ]
     },
     "execution_count": 22,
     "metadata": {},
     "output_type": "execute_result"
    }
   ],
   "execution_count": 22
  },
  {
   "metadata": {
    "ExecuteTime": {
     "end_time": "2024-08-29T17:34:18.097032Z",
     "start_time": "2024-08-29T17:34:18.090785Z"
    }
   },
   "cell_type": "code",
   "source": [
    "### Matrix–Vector Products\n",
    "A, x, A.shape, x.shape, torch.mv(A, x)"
   ],
   "id": "8432117d2733e4a5",
   "outputs": [
    {
     "data": {
      "text/plain": [
       "(tensor([[ 0.,  1.,  2.,  3.],\n",
       "         [ 4.,  5.,  6.,  7.],\n",
       "         [ 8.,  9., 10., 11.],\n",
       "         [12., 13., 14., 15.],\n",
       "         [16., 17., 18., 19.]]),\n",
       " tensor([0., 1., 2., 3.]),\n",
       " torch.Size([5, 4]),\n",
       " torch.Size([4]),\n",
       " tensor([ 14.,  38.,  62.,  86., 110.]))"
      ]
     },
     "execution_count": 25,
     "metadata": {},
     "output_type": "execute_result"
    }
   ],
   "execution_count": 25
  },
  {
   "metadata": {
    "ExecuteTime": {
     "end_time": "2024-08-29T17:38:04.369114Z",
     "start_time": "2024-08-29T17:38:04.354695Z"
    }
   },
   "cell_type": "code",
   "source": [
    "### Matrix–Matrix Multiplication\n",
    "B = torch.ones(4, 3)\n",
    "torch.mm(A, B)"
   ],
   "id": "a4ff338ef05a2e5e",
   "outputs": [
    {
     "data": {
      "text/plain": [
       "tensor([[ 6.,  6.,  6.],\n",
       "        [22., 22., 22.],\n",
       "        [38., 38., 38.],\n",
       "        [54., 54., 54.],\n",
       "        [70., 70., 70.]])"
      ]
     },
     "execution_count": 26,
     "metadata": {},
     "output_type": "execute_result"
    }
   ],
   "execution_count": 26
  },
  {
   "metadata": {
    "ExecuteTime": {
     "end_time": "2024-08-29T17:46:25.236734Z",
     "start_time": "2024-08-29T17:46:25.232292Z"
    }
   },
   "cell_type": "code",
   "source": [
    "### Norms\n",
    "u = torch.tensor([3.0, -4.0])\n",
    "l2 = u.norm()\n",
    "l2"
   ],
   "id": "9ea7f348570f08f8",
   "outputs": [
    {
     "data": {
      "text/plain": [
       "tensor(5.)"
      ]
     },
     "execution_count": 28,
     "metadata": {},
     "output_type": "execute_result"
    }
   ],
   "execution_count": 28
  },
  {
   "metadata": {
    "ExecuteTime": {
     "end_time": "2024-08-29T17:47:14.707401Z",
     "start_time": "2024-08-29T17:47:14.702326Z"
    }
   },
   "cell_type": "code",
   "source": [
    "l1 = torch.abs(u).sum()\n",
    "l1"
   ],
   "id": "7952fe6a5896e716",
   "outputs": [
    {
     "data": {
      "text/plain": [
       "tensor(7.)"
      ]
     },
     "execution_count": 30,
     "metadata": {},
     "output_type": "execute_result"
    }
   ],
   "execution_count": 30
  },
  {
   "metadata": {
    "ExecuteTime": {
     "end_time": "2024-08-29T17:48:23.739006Z",
     "start_time": "2024-08-29T17:48:23.734730Z"
    }
   },
   "cell_type": "code",
   "source": [
    "lf = torch.norm(torch.ones(4, 9))\n",
    "lf"
   ],
   "id": "27fc10853964c266",
   "outputs": [
    {
     "data": {
      "text/plain": [
       "tensor(6.)"
      ]
     },
     "execution_count": 32,
     "metadata": {},
     "output_type": "execute_result"
    }
   ],
   "execution_count": 32
  },
  {
   "metadata": {
    "ExecuteTime": {
     "end_time": "2024-08-29T18:37:51.944931Z",
     "start_time": "2024-08-29T18:37:51.938039Z"
    }
   },
   "cell_type": "code",
   "source": [
    "### homework\n",
    "A = torch.arange(24).reshape(2, 3, 4)\n",
    "len(A)"
   ],
   "id": "9c922403b2c43247",
   "outputs": [
    {
     "data": {
      "text/plain": [
       "2"
      ]
     },
     "execution_count": 39,
     "metadata": {},
     "output_type": "execute_result"
    }
   ],
   "execution_count": 39
  },
  {
   "metadata": {
    "ExecuteTime": {
     "end_time": "2024-08-29T18:37:53.481632Z",
     "start_time": "2024-08-29T18:37:53.475730Z"
    }
   },
   "cell_type": "code",
   "source": [
    "A = torch.arange(24).reshape(4, 6)\n",
    "A.sum(dim=0), A.sum(dim=1), A / A.sum(dim=0)\n",
    "# tensor A.sum(dim=1) at non-singleton dimension "
   ],
   "id": "4e003be3ef855759",
   "outputs": [
    {
     "data": {
      "text/plain": [
       "(tensor([36, 40, 44, 48, 52, 56]),\n",
       " tensor([ 15,  51,  87, 123]),\n",
       " tensor([[0.0000, 0.0250, 0.0455, 0.0625, 0.0769, 0.0893],\n",
       "         [0.1667, 0.1750, 0.1818, 0.1875, 0.1923, 0.1964],\n",
       "         [0.3333, 0.3250, 0.3182, 0.3125, 0.3077, 0.3036],\n",
       "         [0.5000, 0.4750, 0.4545, 0.4375, 0.4231, 0.4107]]))"
      ]
     },
     "execution_count": 40,
     "metadata": {},
     "output_type": "execute_result"
    }
   ],
   "execution_count": 40
  },
  {
   "metadata": {
    "ExecuteTime": {
     "end_time": "2024-08-29T18:38:22.404663Z",
     "start_time": "2024-08-29T18:38:22.398416Z"
    }
   },
   "cell_type": "code",
   "source": [
    "A = torch.ones(2, 3, 4)\n",
    "A.sum(dim=0), A.sum(dim=1), A.sum(dim=2)"
   ],
   "id": "e95ffacc7aab35b2",
   "outputs": [
    {
     "data": {
      "text/plain": [
       "(tensor([[2., 2., 2., 2.],\n",
       "         [2., 2., 2., 2.],\n",
       "         [2., 2., 2., 2.]]),\n",
       " tensor([[3., 3., 3., 3.],\n",
       "         [3., 3., 3., 3.]]),\n",
       " tensor([[4., 4., 4.],\n",
       "         [4., 4., 4.]]))"
      ]
     },
     "execution_count": 41,
     "metadata": {},
     "output_type": "execute_result"
    }
   ],
   "execution_count": 41
  },
  {
   "metadata": {
    "ExecuteTime": {
     "end_time": "2024-08-29T18:39:17.878753Z",
     "start_time": "2024-08-29T18:39:17.870403Z"
    }
   },
   "cell_type": "code",
   "source": [
    "A = torch.ones(2, 3, 4)\n",
    "torch.norm(A)"
   ],
   "id": "584b4970339e6ca5",
   "outputs": [
    {
     "data": {
      "text/plain": [
       "tensor(4.8990)"
      ]
     },
     "execution_count": 42,
     "metadata": {},
     "output_type": "execute_result"
    }
   ],
   "execution_count": 42
  },
  {
   "metadata": {
    "ExecuteTime": {
     "end_time": "2024-08-29T18:39:30.029055Z",
     "start_time": "2024-08-29T18:39:30.024911Z"
    }
   },
   "cell_type": "code",
   "source": [
    "A = torch.ones(2, 3, 4, 5)\n",
    "torch.norm(A)"
   ],
   "id": "a40f366ff298fdbf",
   "outputs": [
    {
     "data": {
      "text/plain": [
       "tensor(10.9545)"
      ]
     },
     "execution_count": 43,
     "metadata": {},
     "output_type": "execute_result"
    }
   ],
   "execution_count": 43
  },
  {
   "metadata": {
    "ExecuteTime": {
     "end_time": "2024-08-29T18:42:14.329269Z",
     "start_time": "2024-08-29T18:42:14.320372Z"
    }
   },
   "cell_type": "code",
   "source": "torch.sqrt(torch.tensor([2*3*4*5]))",
   "id": "8447d034adf25fb8",
   "outputs": [
    {
     "data": {
      "text/plain": [
       "tensor([10.9545])"
      ]
     },
     "execution_count": 49,
     "metadata": {},
     "output_type": "execute_result"
    }
   ],
   "execution_count": 49
  },
  {
   "metadata": {
    "ExecuteTime": {
     "end_time": "2024-08-30T02:19:26.386334Z",
     "start_time": "2024-08-30T02:19:26.380906Z"
    }
   },
   "cell_type": "code",
   "source": [
    "A = torch.tensor([[0, -2, 2], [5, 1, 5], [1, 4, -1]])\n",
    "B = torch.arange(9).reshape(3, 3)\n",
    "torch.mm(A, B)"
   ],
   "id": "71b89b6ef8146ccb",
   "outputs": [
    {
     "data": {
      "text/plain": [
       "tensor([[ 6,  6,  6],\n",
       "        [33, 44, 55],\n",
       "        [ 6, 10, 14]])"
      ]
     },
     "execution_count": 51,
     "metadata": {},
     "output_type": "execute_result"
    }
   ],
   "execution_count": 51
  },
  {
   "metadata": {},
   "cell_type": "code",
   "outputs": [],
   "execution_count": null,
   "source": "",
   "id": "e257b4701be9447c"
  }
 ],
 "metadata": {
  "kernelspec": {
   "display_name": "Python 3",
   "language": "python",
   "name": "python3"
  },
  "language_info": {
   "codemirror_mode": {
    "name": "ipython",
    "version": 2
   },
   "file_extension": ".py",
   "mimetype": "text/x-python",
   "name": "python",
   "nbconvert_exporter": "python",
   "pygments_lexer": "ipython2",
   "version": "2.7.6"
  }
 },
 "nbformat": 4,
 "nbformat_minor": 5
}
