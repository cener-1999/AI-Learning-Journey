{
 "cells": [
  {
   "metadata": {
    "ExecuteTime": {
     "end_time": "2024-08-28T19:51:22.120487Z",
     "start_time": "2024-08-28T19:51:21.066720Z"
    }
   },
   "cell_type": "code",
   "source": "import torch",
   "id": "76b66dabf77f1774",
   "outputs": [],
   "execution_count": 1
  },
  {
   "metadata": {
    "ExecuteTime": {
     "end_time": "2024-08-28T19:52:40.785955Z",
     "start_time": "2024-08-28T19:52:40.777916Z"
    }
   },
   "cell_type": "code",
   "source": [
    "a = torch.arange(3).reshape(3, 1)\n",
    "b = torch.arange(2).reshape(1, 2)\n",
    "a, b"
   ],
   "id": "5fbb42d912e43f86",
   "outputs": [
    {
     "data": {
      "text/plain": [
       "(tensor([[0],\n",
       "         [1],\n",
       "         [2]]),\n",
       " tensor([[0, 1]]))"
      ]
     },
     "execution_count": 4,
     "metadata": {},
     "output_type": "execute_result"
    }
   ],
   "execution_count": 4
  },
  {
   "metadata": {
    "ExecuteTime": {
     "end_time": "2024-08-28T19:52:47.957787Z",
     "start_time": "2024-08-28T19:52:47.951079Z"
    }
   },
   "cell_type": "code",
   "source": "a + b",
   "id": "49a488bd694a8",
   "outputs": [
    {
     "data": {
      "text/plain": [
       "tensor([[0, 1],\n",
       "        [1, 2],\n",
       "        [2, 3]])"
      ]
     },
     "execution_count": 5,
     "metadata": {},
     "output_type": "execute_result"
    }
   ],
   "execution_count": 5
  },
  {
   "metadata": {
    "ExecuteTime": {
     "end_time": "2024-08-28T20:10:57.772447Z",
     "start_time": "2024-08-28T20:10:57.766971Z"
    }
   },
   "cell_type": "code",
   "source": [
    "a = torch.arange(4).reshape(2, 2, 1)\n",
    "b = torch.arange(4).reshape(1, 2, 2)\n",
    "\n",
    "a, b, a + b"
   ],
   "id": "73b998483cebbcf1",
   "outputs": [
    {
     "data": {
      "text/plain": [
       "(tensor([[[0],\n",
       "          [1]],\n",
       " \n",
       "         [[2],\n",
       "          [3]]]),\n",
       " tensor([[[0, 1],\n",
       "          [2, 3]]]),\n",
       " tensor([[[0, 1],\n",
       "          [3, 4]],\n",
       " \n",
       "         [[2, 3],\n",
       "          [5, 6]]]))"
      ]
     },
     "execution_count": 12,
     "metadata": {},
     "output_type": "execute_result"
    }
   ],
   "execution_count": 12
  },
  {
   "metadata": {},
   "cell_type": "code",
   "outputs": [],
   "execution_count": null,
   "source": "",
   "id": "c312b22382b7d41c"
  }
 ],
 "metadata": {
  "kernelspec": {
   "display_name": "Python 3",
   "language": "python",
   "name": "python3"
  },
  "language_info": {
   "codemirror_mode": {
    "name": "ipython",
    "version": 2
   },
   "file_extension": ".py",
   "mimetype": "text/x-python",
   "name": "python",
   "nbconvert_exporter": "python",
   "pygments_lexer": "ipython2",
   "version": "2.7.6"
  }
 },
 "nbformat": 4,
 "nbformat_minor": 5
}
