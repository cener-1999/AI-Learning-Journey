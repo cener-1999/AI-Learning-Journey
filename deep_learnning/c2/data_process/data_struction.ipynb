{
 "cells": [
  {
   "cell_type": "code",
   "id": "initial_id",
   "metadata": {
    "collapsed": true,
    "ExecuteTime": {
     "end_time": "2024-08-28T19:34:41.170733Z",
     "start_time": "2024-08-28T19:34:41.166108Z"
    }
   },
   "source": "import torch",
   "outputs": [],
   "execution_count": 16
  },
  {
   "metadata": {
    "ExecuteTime": {
     "end_time": "2024-08-28T19:34:41.177861Z",
     "start_time": "2024-08-28T19:34:41.173003Z"
    }
   },
   "cell_type": "code",
   "source": [
    "x = torch.arange(12)\n",
    "x"
   ],
   "id": "a97b22a920bdcee",
   "outputs": [
    {
     "data": {
      "text/plain": [
       "tensor([ 0,  1,  2,  3,  4,  5,  6,  7,  8,  9, 10, 11])"
      ]
     },
     "execution_count": 17,
     "metadata": {},
     "output_type": "execute_result"
    }
   ],
   "execution_count": 17
  },
  {
   "metadata": {
    "ExecuteTime": {
     "end_time": "2024-08-28T19:34:41.182955Z",
     "start_time": "2024-08-28T19:34:41.179233Z"
    }
   },
   "cell_type": "code",
   "source": "x.shape",
   "id": "78ee5f6e5dc4c55c",
   "outputs": [
    {
     "data": {
      "text/plain": [
       "torch.Size([12])"
      ]
     },
     "execution_count": 18,
     "metadata": {},
     "output_type": "execute_result"
    }
   ],
   "execution_count": 18
  },
  {
   "metadata": {
    "ExecuteTime": {
     "end_time": "2024-08-28T19:34:41.188109Z",
     "start_time": "2024-08-28T19:34:41.184780Z"
    }
   },
   "cell_type": "code",
   "source": "x.numel()",
   "id": "90a6bbde900cc3de",
   "outputs": [
    {
     "data": {
      "text/plain": [
       "12"
      ]
     },
     "execution_count": 19,
     "metadata": {},
     "output_type": "execute_result"
    }
   ],
   "execution_count": 19
  },
  {
   "metadata": {
    "ExecuteTime": {
     "end_time": "2024-08-28T19:34:41.193418Z",
     "start_time": "2024-08-28T19:34:41.189068Z"
    }
   },
   "cell_type": "code",
   "source": [
    "X = torch.reshape(x, shape=(3, 4))\n",
    "X"
   ],
   "id": "e14126545d02975c",
   "outputs": [
    {
     "data": {
      "text/plain": [
       "tensor([[ 0,  1,  2,  3],\n",
       "        [ 4,  5,  6,  7],\n",
       "        [ 8,  9, 10, 11]])"
      ]
     },
     "execution_count": 20,
     "metadata": {},
     "output_type": "execute_result"
    }
   ],
   "execution_count": 20
  },
  {
   "metadata": {
    "ExecuteTime": {
     "end_time": "2024-08-28T19:34:41.198586Z",
     "start_time": "2024-08-28T19:34:41.194375Z"
    }
   },
   "cell_type": "code",
   "source": [
    "X = torch.reshape(x, shape=(3, -1))\n",
    "X"
   ],
   "id": "1300c835cbcdb9d3",
   "outputs": [
    {
     "data": {
      "text/plain": [
       "tensor([[ 0,  1,  2,  3],\n",
       "        [ 4,  5,  6,  7],\n",
       "        [ 8,  9, 10, 11]])"
      ]
     },
     "execution_count": 21,
     "metadata": {},
     "output_type": "execute_result"
    }
   ],
   "execution_count": 21
  },
  {
   "metadata": {
    "ExecuteTime": {
     "end_time": "2024-08-28T19:34:41.203100Z",
     "start_time": "2024-08-28T19:34:41.199561Z"
    }
   },
   "cell_type": "code",
   "source": [
    "X = torch.reshape(x, shape=(-1, 4))\n",
    "X"
   ],
   "id": "3e1efb11cc3c2e20",
   "outputs": [
    {
     "data": {
      "text/plain": [
       "tensor([[ 0,  1,  2,  3],\n",
       "        [ 4,  5,  6,  7],\n",
       "        [ 8,  9, 10, 11]])"
      ]
     },
     "execution_count": 22,
     "metadata": {},
     "output_type": "execute_result"
    }
   ],
   "execution_count": 22
  },
  {
   "metadata": {
    "ExecuteTime": {
     "end_time": "2024-08-28T19:35:19.755496Z",
     "start_time": "2024-08-28T19:35:19.748621Z"
    }
   },
   "cell_type": "code",
   "source": "torch.zeros(2, 3, 4)",
   "id": "d5e8f39656bfad60",
   "outputs": [
    {
     "data": {
      "text/plain": [
       "tensor([[[0., 0., 0., 0.],\n",
       "         [0., 0., 0., 0.],\n",
       "         [0., 0., 0., 0.]],\n",
       "\n",
       "        [[0., 0., 0., 0.],\n",
       "         [0., 0., 0., 0.],\n",
       "         [0., 0., 0., 0.]]])"
      ]
     },
     "execution_count": 24,
     "metadata": {},
     "output_type": "execute_result"
    }
   ],
   "execution_count": 24
  },
  {
   "metadata": {
    "ExecuteTime": {
     "end_time": "2024-08-28T19:35:46.679467Z",
     "start_time": "2024-08-28T19:35:46.674882Z"
    }
   },
   "cell_type": "code",
   "source": "torch.ones(2, 3, 4)",
   "id": "5c2097f1f136d0aa",
   "outputs": [
    {
     "data": {
      "text/plain": [
       "tensor([[[1., 1., 1., 1.],\n",
       "         [1., 1., 1., 1.],\n",
       "         [1., 1., 1., 1.]],\n",
       "\n",
       "        [[1., 1., 1., 1.],\n",
       "         [1., 1., 1., 1.],\n",
       "         [1., 1., 1., 1.]]])"
      ]
     },
     "execution_count": 26,
     "metadata": {},
     "output_type": "execute_result"
    }
   ],
   "execution_count": 26
  },
  {
   "metadata": {
    "ExecuteTime": {
     "end_time": "2024-08-28T19:37:02.525663Z",
     "start_time": "2024-08-28T19:37:02.517665Z"
    }
   },
   "cell_type": "code",
   "source": "torch.randn(size=(3, 4))",
   "id": "3b24f51823b315f8",
   "outputs": [
    {
     "data": {
      "text/plain": [
       "tensor([[ 0.4092,  0.6414, -0.2446, -0.4932],\n",
       "        [-1.0799, -1.0385,  0.8183, -0.4123],\n",
       "        [-1.1938,  0.8775, -2.3165,  1.2044]])"
      ]
     },
     "execution_count": 28,
     "metadata": {},
     "output_type": "execute_result"
    }
   ],
   "execution_count": 28
  },
  {
   "metadata": {
    "ExecuteTime": {
     "end_time": "2024-08-28T19:37:40.309966Z",
     "start_time": "2024-08-28T19:37:40.302120Z"
    }
   },
   "cell_type": "code",
   "source": "torch.tensor(data= [[1, 2, 3, 4], [5, 6, 7, 8]])",
   "id": "a62203f2e366b050",
   "outputs": [
    {
     "data": {
      "text/plain": [
       "tensor([[1, 2, 3, 4],\n",
       "        [5, 6, 7, 8]])"
      ]
     },
     "execution_count": 29,
     "metadata": {},
     "output_type": "execute_result"
    }
   ],
   "execution_count": 29
  },
  {
   "metadata": {},
   "cell_type": "code",
   "outputs": [],
   "execution_count": null,
   "source": "",
   "id": "292988516c982e46"
  }
 ],
 "metadata": {
  "kernelspec": {
   "display_name": "Python 3",
   "language": "python",
   "name": "python3"
  },
  "language_info": {
   "codemirror_mode": {
    "name": "ipython",
    "version": 2
   },
   "file_extension": ".py",
   "mimetype": "text/x-python",
   "name": "python",
   "nbconvert_exporter": "python",
   "pygments_lexer": "ipython2",
   "version": "2.7.6"
  }
 },
 "nbformat": 4,
 "nbformat_minor": 5
}
