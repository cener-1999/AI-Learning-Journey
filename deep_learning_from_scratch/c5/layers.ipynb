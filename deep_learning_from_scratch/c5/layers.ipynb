{
 "cells": [
  {
   "metadata": {},
   "cell_type": "markdown",
   "source": "## Implementation of Simple Layer",
   "id": "bf65225a3906b7f2"
  },
  {
   "metadata": {
    "ExecuteTime": {
     "end_time": "2024-09-17T18:37:28.327489Z",
     "start_time": "2024-09-17T18:37:28.324487Z"
    }
   },
   "cell_type": "code",
   "source": [
    "# AddLayer\n",
    "class AddLayer:\n",
    "    def __init__(self):\n",
    "        pass\n",
    "\n",
    "    def forward(self, x, y):\n",
    "        out = x+y\n",
    "        return out\n",
    "\n",
    "    def backward(self, dout):\n",
    "        return dout, dout\n"
   ],
   "id": "28c61e8b7acb3e6a",
   "outputs": [],
   "execution_count": 12
  },
  {
   "metadata": {
    "ExecuteTime": {
     "end_time": "2024-09-17T18:25:49.683881Z",
     "start_time": "2024-09-17T18:25:49.680281Z"
    }
   },
   "cell_type": "code",
   "source": [
    "# MulLayer\n",
    "class MulLayer:\n",
    "    def __init__(self):\n",
    "        self.x = None\n",
    "        self.y = None\n",
    "\n",
    "    def forward(self, x, y):\n",
    "        self.x = x\n",
    "        self.y = y\n",
    "        out = x * y\n",
    "        return out\n",
    "\n",
    "    def backward(self, dout):\n",
    "        dx = dout * self.y\n",
    "        dy = dout * self.x\n",
    "        return dx, dy"
   ],
   "id": "39b8daac9803917b",
   "outputs": [],
   "execution_count": 5
  },
  {
   "metadata": {
    "ExecuteTime": {
     "end_time": "2024-09-17T18:28:17.482797Z",
     "start_time": "2024-09-17T18:28:17.473121Z"
    }
   },
   "cell_type": "code",
   "source": [
    "# e.g. mul-layer apple_price\n",
    "apple, apple_num, tax = 100.0, 2.0, 1.1\n",
    "\n",
    "mul_apple_layer = MulLayer()\n",
    "mul_tax_layer = MulLayer()\n",
    "\n",
    "# forward\n",
    "apple_price = mul_apple_layer.forward(apple, apple_num)\n",
    "price = mul_tax_layer.forward(apple_price, tax)\n",
    "print(price)\n",
    "\n",
    "# backward\n",
    "dprice = 1\n",
    "dapple_price, dtax = mul_tax_layer.backward(dprice)\n",
    "dapple, dapple_num = mul_apple_layer.backward(dapple_price)\n",
    "dapple_price, dtax, dapple, dapple_num"
   ],
   "id": "743fc11bb36cea49",
   "outputs": [
    {
     "name": "stdout",
     "output_type": "stream",
     "text": [
      "220.00000000000003\n"
     ]
    },
    {
     "data": {
      "text/plain": [
       "(1.1, 200.0, 2.2, 110.00000000000001)"
      ]
     },
     "execution_count": 9,
     "metadata": {},
     "output_type": "execute_result"
    }
   ],
   "execution_count": 9
  },
  {
   "metadata": {
    "ExecuteTime": {
     "end_time": "2024-09-17T18:40:54.000448Z",
     "start_time": "2024-09-17T18:40:53.994572Z"
    }
   },
   "cell_type": "code",
   "source": [
    "# e.g. add-layer apple-orange-price\n",
    "apple, apple_num = 100.0, 2.0\n",
    "orange, orange_num = 150, 3\n",
    "tax = 1.1\n",
    "\n",
    "mul_apple_layer = MulLayer()\n",
    "mul_orange_layer = MulLayer()\n",
    "add_apple_orange_layer = AddLayer()\n",
    "mul_tax_layer = MulLayer()\n",
    "\n",
    "# forward\n",
    "apple_price = mul_apple_layer.forward(apple, apple_num)\n",
    "orange_price = mul_orange_layer.forward(orange, orange_num)\n",
    "all_price = add_apple_orange_layer.forward(apple_price, orange_price)\n",
    "price = mul_tax_layer.forward(all_price, tax)\n",
    "print(price)\n",
    "\n",
    "# backward\n",
    "dprice = 1\n",
    "dall_price, dtax = mul_tax_layer.backward(dprice)\n",
    "dapple_price, dorange_price = add_apple_orange_layer.backward(dall_price)\n",
    "dapple, dapple_num = mul_apple_layer.backward(dapple_price)\n",
    "dorange, dorange_num = mul_orange_layer.backward(dorange_price)\n",
    "dapple, dapple_num, dorange, dorange_num, dtax"
   ],
   "id": "9a5ac26135043c54",
   "outputs": [
    {
     "name": "stdout",
     "output_type": "stream",
     "text": [
      "715.0000000000001\n"
     ]
    },
    {
     "data": {
      "text/plain": [
       "(2.2, 110.00000000000001, 3.3000000000000003, 165.0, 650.0)"
      ]
     },
     "execution_count": 20,
     "metadata": {},
     "output_type": "execute_result"
    }
   ],
   "execution_count": 20
  },
  {
   "metadata": {},
   "cell_type": "markdown",
   "source": "## Implementation of Activation Function Layer",
   "id": "2ca5910a6536c031"
  },
  {
   "metadata": {
    "ExecuteTime": {
     "end_time": "2024-09-17T18:50:26.383857Z",
     "start_time": "2024-09-17T18:50:26.232404Z"
    }
   },
   "cell_type": "code",
   "source": "import numpy as np",
   "id": "21932fc149c1194f",
   "outputs": [],
   "execution_count": 21
  },
  {
   "metadata": {},
   "cell_type": "markdown",
   "source": "### ReLu",
   "id": "b921cb761b74ed0d"
  },
  {
   "metadata": {
    "ExecuteTime": {
     "end_time": "2024-09-17T18:54:55.093329Z",
     "start_time": "2024-09-17T18:54:55.089773Z"
    }
   },
   "cell_type": "code",
   "source": [
    "class ReLu:\n",
    "    def __init__(self):\n",
    "        self.mask = None\n",
    "    \n",
    "    def forward(self, x):\n",
    "        self.mask = (x <= 0)\n",
    "        out = x.copy()\n",
    "        out[self.mask] = 0\n",
    "        return out\n",
    "    \n",
    "    def backward(self, dout):\n",
    "        dout[self.mask] = 0\n",
    "        dx = dout\n",
    "        return dx"
   ],
   "id": "bba8e58d649ebf10",
   "outputs": [],
   "execution_count": 22
  },
  {
   "metadata": {
    "ExecuteTime": {
     "end_time": "2024-09-17T18:55:58.239367Z",
     "start_time": "2024-09-17T18:55:58.230673Z"
    }
   },
   "cell_type": "code",
   "source": [
    "x = np.array([[1.0, -0.5],\n",
    "              [-2.0, 3.0]])\n",
    "mask = x <= 0\n",
    "mask"
   ],
   "id": "6c0e5c30d1f15944",
   "outputs": [
    {
     "data": {
      "text/plain": [
       "array([[False,  True],\n",
       "       [ True, False]])"
      ]
     },
     "execution_count": 23,
     "metadata": {},
     "output_type": "execute_result"
    }
   ],
   "execution_count": 23
  },
  {
   "metadata": {},
   "cell_type": "markdown",
   "source": "### Sigmoid",
   "id": "dacf5d74f49cc2de"
  },
  {
   "metadata": {
    "ExecuteTime": {
     "end_time": "2024-09-17T19:07:01.806395Z",
     "start_time": "2024-09-17T19:07:01.798851Z"
    }
   },
   "cell_type": "code",
   "source": [
    "class Sigmoid:\n",
    "    def __init__(self):\n",
    "        self.out = None\n",
    "    \n",
    "    def forward(self, x):\n",
    "        out = 1 / (1 + np.exp(-x))\n",
    "        self.out = out\n",
    "        return out\n",
    "    \n",
    "    def backward(self, dout):\n",
    "        dx =  dout *(self.out * (1.0 - self.out))\n",
    "        return dx"
   ],
   "id": "e31a97fd6641d747",
   "outputs": [],
   "execution_count": 24
  },
  {
   "metadata": {},
   "cell_type": "markdown",
   "source": "## Implementation of Affine/Softmax Layer",
   "id": "e5dd851ea921d5bf"
  },
  {
   "metadata": {
    "ExecuteTime": {
     "end_time": "2024-09-18T19:08:05.331315Z",
     "start_time": "2024-09-18T19:08:05.321020Z"
    }
   },
   "cell_type": "code",
   "source": [
    "class Affine:\n",
    "    def __init__(self, W: np.ndarray, b: np.ndarray):\n",
    "        self.W = W\n",
    "        self.b = b\n",
    "        self.x = None\n",
    "        self.dW = None\n",
    "        self.db = None\n",
    "    \n",
    "    def forward(self, x: np.ndarray):\n",
    "        self.x = x\n",
    "        out = np.dot(self.W, x) + self.b\n",
    "        return out\n",
    "\n",
    "    def backward(self, dout: np.ndarray):\n",
    "        dx = np.dot(dout, self.W.T)\n",
    "        self.dW = np.dot(self.x.T, dout)\n",
    "        self.db = np.dot(dout, np.sum(self.x, axis=0))\n",
    "        return dx\n"
   ],
   "id": "35643eba5a3bee13",
   "outputs": [],
   "execution_count": 27
  },
  {
   "metadata": {},
   "cell_type": "code",
   "outputs": [],
   "execution_count": null,
   "source": [
    "from deep_learning_from_scratch.common.functions import cross_entropy_error, softmax\n",
    "\n",
    "\n",
    "class SoftmaxWithLoss:\n",
    "    def __init__(self):\n",
    "        self.y = None\n",
    "        self.t = None\n",
    "        self.loss = None\n",
    "    \n",
    "    def forward(self, x, t):\n",
    "        self.y = y = softmax(x)\n",
    "        self.t = t\n",
    "        self.loss = cross_entropy_error(y, t)\n",
    "        return self.loss\n",
    "\n",
    "    def backward(self, dout=1):\n",
    "        batch_size = self.t.shape[0]\n",
    "        dy = (self.y - self.t) / batch_size\n",
    "        return dy\n"
   ],
   "id": "73b1dd5dbd346487"
  },
  {
   "metadata": {
    "ExecuteTime": {
     "end_time": "2024-09-18T20:39:56.034766Z",
     "start_time": "2024-09-18T20:39:56.029120Z"
    }
   },
   "cell_type": "code",
   "source": [
    "class A:\n",
    "    def __init__(self):\n",
    "        self.a = None\n",
    "\n",
    "n = A()\n",
    "hasattr(n, 'a'), isinstance(n, A)"
   ],
   "id": "4638bdde8aad1075",
   "outputs": [
    {
     "data": {
      "text/plain": [
       "(True, True)"
      ]
     },
     "execution_count": 48,
     "metadata": {},
     "output_type": "execute_result"
    }
   ],
   "execution_count": 48
  },
  {
   "metadata": {},
   "cell_type": "code",
   "outputs": [],
   "execution_count": null,
   "source": "",
   "id": "a23645e7bceacb7f"
  }
 ],
 "metadata": {
  "kernelspec": {
   "display_name": "Python 3",
   "language": "python",
   "name": "python3"
  },
  "language_info": {
   "codemirror_mode": {
    "name": "ipython",
    "version": 2
   },
   "file_extension": ".py",
   "mimetype": "text/x-python",
   "name": "python",
   "nbconvert_exporter": "python",
   "pygments_lexer": "ipython2",
   "version": "2.7.6"
  }
 },
 "nbformat": 4,
 "nbformat_minor": 5
}
