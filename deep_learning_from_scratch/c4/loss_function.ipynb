{
 "cells": [
  {
   "metadata": {
    "ExecuteTime": {
     "end_time": "2024-09-09T13:37:29.964034Z",
     "start_time": "2024-09-09T13:37:29.959984Z"
    }
   },
   "cell_type": "code",
   "source": [
    "from typing import Callable\n",
    "import numpy as np\n",
    "import matplotlib.pyplot as plt\n",
    "\n",
    "\n",
    "def show_function(data, func: Callable):\n",
    "    fig, ax = plt.subplots(figsize=(3, 2.7), layout='constrained')\n",
    "    ax.plot(data, func(data))\n"
   ],
   "id": "a8142b3f09bdf860",
   "outputs": [],
   "execution_count": 11
  },
  {
   "metadata": {},
   "cell_type": "markdown",
   "source": "### 均方误差 mean squared error",
   "id": "9bc9e0307173f060"
  },
  {
   "metadata": {
    "ExecuteTime": {
     "end_time": "2024-09-09T13:30:12.770227Z",
     "start_time": "2024-09-09T13:30:12.759988Z"
    }
   },
   "cell_type": "code",
   "source": [
    "def mean_squared_error(y, t):\n",
    "    return np.sum(np.square(y - t)) / 2\n",
    "\n",
    "t = np.array([0, 0, 1, 0, 0, 0, 0, 0, 0, 0])\n",
    "y = np.array([0.1, 0.05, 0.6, 0.0, 0.05, 0.1, 0.0, 0.1, 0.0, 0.0])\n",
    "mean_squared_error(y, t)"
   ],
   "id": "8bcfdd086ad34a3d",
   "outputs": [
    {
     "data": {
      "text/plain": [
       "0.09750000000000003"
      ]
     },
     "execution_count": 4,
     "metadata": {},
     "output_type": "execute_result"
    }
   ],
   "execution_count": 4
  },
  {
   "metadata": {},
   "cell_type": "markdown",
   "source": "### 交叉熵误差 cross entropy error",
   "id": "ebb874f95fbb03e1"
  },
  {
   "metadata": {
    "ExecuteTime": {
     "end_time": "2024-09-09T14:58:48.045834Z",
     "start_time": "2024-09-09T14:58:48.039004Z"
    }
   },
   "cell_type": "code",
   "source": [
    "def cross_entropy_error(p: np.array, q: np.array):\n",
    "    \"\"\"\n",
    "    :param p: 真实数据\n",
    "    :param q: 预测数据\n",
    "    :return: 交叉熵\n",
    "    \"\"\"\n",
    "    epsilon = 1e-7\n",
    "    return -np.sum(p * np.log(q+epsilon))\n",
    "\n",
    "p = np.array([0, 0, 1, 0, 0, 0, 0, 0, 0, 0])\n",
    "q = np.array([0.1, 0.05, 0.6, 0.0, 0.05, 0.1, 0.0, 0.1, 0.0, 0.0])\n",
    "cross_entropy_error(p, q)"
   ],
   "id": "18f453abe6b780ea",
   "outputs": [
    {
     "data": {
      "text/plain": [
       "0.510825457099338"
      ]
     },
     "execution_count": 43,
     "metadata": {},
     "output_type": "execute_result"
    }
   ],
   "execution_count": 43
  },
  {
   "metadata": {
    "ExecuteTime": {
     "end_time": "2024-09-09T15:06:35.160917Z",
     "start_time": "2024-09-09T15:06:35.155294Z"
    }
   },
   "cell_type": "code",
   "source": [
    "# mini-batch one-hot版本 \n",
    "def cross_entropy_error(p: np.ndarray, q: np.ndarray):\n",
    "    \"\"\"\n",
    "    :param p: 真实数据\n",
    "    :param q: 预测数据\n",
    "    :return: 交叉熵\n",
    "    \"\"\"\n",
    "    if q.ndim == 1:\n",
    "        p = p.reshape(1, p.size)\n",
    "        q = q.reshape(1, q.size)\n",
    "    \n",
    "    batch_size = p.shape[0]\n",
    "    epsilon = 1e-7\n",
    "    return -np.sum(p * np.log(q+epsilon)) / batch_size\n",
    "\n",
    "p = np.array([[0, 0, 1, 0, 0, 0, 0, 0, 0, 0],\n",
    "              [0, 0, 1, 0, 0, 0, 0, 0, 0, 0]])\n",
    "q = np.array([[0.1, 0.05, 0.6, 0.0, 0.05, 0.1, 0.0, 0.1, 0.0, 0.0],\n",
    "              [0.1, 0.05, 0.6, 0.0, 0.05, 0.1, 0.0, 0.1, 0.0, 0.0]])\n",
    "cross_entropy_error(p, q)"
   ],
   "id": "d8b266df5d1e0897",
   "outputs": [
    {
     "data": {
      "text/plain": [
       "0.510825457099338"
      ]
     },
     "execution_count": 56,
     "metadata": {},
     "output_type": "execute_result"
    }
   ],
   "execution_count": 56
  },
  {
   "metadata": {
    "ExecuteTime": {
     "end_time": "2024-09-09T16:40:23.731216Z",
     "start_time": "2024-09-09T16:40:23.726152Z"
    }
   },
   "cell_type": "code",
   "source": [
    "#非one-hot版本 \n",
    "def cross_entropy_error(p: np.ndarray, q: np.ndarray):\n",
    "    \"\"\"\n",
    "    :param p: 真实数据 e.g. [[0.1, 0.2, 0.7], [0.1, 0.8, 0.1], [0.9, 0.05, 0.05],]\n",
    "    :param q: 预测数据 e.g. [2, 1, 0]\n",
    "    :return: 交叉熵\n",
    "    \"\"\"\n",
    "    batch_size = p.shape[0]\n",
    "    epsilon = 1e-7\n",
    "\n",
    "    tmp_sum = 0\n",
    "    for x in range(batch_size):\n",
    "        q_x = 1 # 概率为1\n",
    "        p_x = p[x, q[x]]\n",
    "        tmp_sum += -np.sum(q_x * np.log(p_x + epsilon))\n",
    "    \n",
    "    return tmp_sum / batch_size\n",
    "\n",
    "p = np.array([[0.1, 0.2, 0.7], [0.1, 0.8, 0.1], [0.9, 0.05, 0.05]])\n",
    "q = np.array([2, 1, 0])\n",
    "cross_entropy_error(p, q)"
   ],
   "id": "1e04e0a5d18da58d",
   "outputs": [
    {
     "data": {
      "text/plain": [
       "0.2283928773141796"
      ]
     },
     "execution_count": 67,
     "metadata": {},
     "output_type": "execute_result"
    }
   ],
   "execution_count": 67
  },
  {
   "metadata": {
    "ExecuteTime": {
     "end_time": "2024-09-09T16:45:17.896878Z",
     "start_time": "2024-09-09T16:45:17.890120Z"
    }
   },
   "cell_type": "code",
   "source": [
    "#非one-hot mini-batch版本\n",
    "def cross_entropy_error(p: np.ndarray, q: np.ndarray):\n",
    "    \"\"\"\n",
    "    :param p: 真实数据 e.g. [[0.1, 0.2, 0.7], [0.1, 0.8, 0.1], [0.9, 0.05, 0.05],]\n",
    "    :param q: 预测数据 e.g. [2, 1, 0]\n",
    "    :return: 交叉熵\n",
    "    \"\"\"\n",
    "    batch_size = p.shape[0]\n",
    "    epsilon = 1e-7\n",
    "    return -np.sum(np.log(p[np.arange(batch_size), q] + epsilon)) / batch_size\n",
    "\n",
    "p = np.array([[0.1, 0.2, 0.7], [0.1, 0.8, 0.1], [0.9, 0.05, 0.05]])\n",
    "q = np.array([2, 1, 0])\n",
    "cross_entropy_error(p, q), p[np.arange(3), q] # 高级索引: 第一个index表示要选择的行, 第二个表示要选择的行的对应的列"
   ],
   "id": "b052b6b8f3b4964",
   "outputs": [
    {
     "data": {
      "text/plain": [
       "(0.2283928773141796, array([0.7, 0.8, 0.9]))"
      ]
     },
     "execution_count": 79,
     "metadata": {},
     "output_type": "execute_result"
    }
   ],
   "execution_count": 79
  },
  {
   "metadata": {
    "ExecuteTime": {
     "end_time": "2024-09-09T16:55:02.107060Z",
     "start_time": "2024-09-09T16:55:02.101048Z"
    }
   },
   "cell_type": "code",
   "source": [
    "# 结合\n",
    "def cross_entropy_error(p: np.ndarray, q: np.ndarray):\n",
    "    \"\"\"\n",
    "    :param p: 真实数据 e.g. [[0.1, 0.2, 0.7], [0.1, 0.8, 0.1], [0.9, 0.05, 0.05],]\n",
    "    :param q: 预测数据 e.g. [2, 1, 0]\n",
    "    :return: 交叉熵\n",
    "    \"\"\"\n",
    "    batch_size = p.shape[0]\n",
    "    epsilon = 1e-7\n",
    "    if q.size == p.size:\n",
    "        q = q.argmax(axis=1)\n",
    "    return -np.sum(np.log(p[np.arange(batch_size), q] + epsilon)) / batch_size\n",
    "\n",
    "p1 = np.array([[0.1, 0.2, 0.7], [0.1, 0.8, 0.1], [0.9, 0.05, 0.05]])\n",
    "q1 = np.array([2, 1, 0])\n",
    "\n",
    "p2 = np.array([[0.1, 0.05, 0.6, 0.0, 0.05, 0.1, 0.0, 0.1, 0.0, 0.0],\n",
    "              [0.1, 0.05, 0.6, 0.0, 0.05, 0.1, 0.0, 0.1, 0.0, 0.0]])\n",
    "q2 = np.array([[0, 0, 1, 0, 0, 0, 0, 0, 0, 0],\n",
    "              [0, 0, 1, 0, 0, 0, 0, 0, 0, 0]])\n",
    "cross_entropy_error(p1, q1), cross_entropy_error(p2, q2)"
   ],
   "id": "c8a31a736078676b",
   "outputs": [
    {
     "data": {
      "text/plain": [
       "(0.2283928773141796, 0.510825457099338)"
      ]
     },
     "execution_count": 84,
     "metadata": {},
     "output_type": "execute_result"
    }
   ],
   "execution_count": 84
  },
  {
   "metadata": {},
   "cell_type": "code",
   "outputs": [],
   "execution_count": null,
   "source": "",
   "id": "fc88c242c661d3a9"
  }
 ],
 "metadata": {
  "kernelspec": {
   "display_name": "Python 3",
   "language": "python",
   "name": "python3"
  },
  "language_info": {
   "codemirror_mode": {
    "name": "ipython",
    "version": 2
   },
   "file_extension": ".py",
   "mimetype": "text/x-python",
   "name": "python",
   "nbconvert_exporter": "python",
   "pygments_lexer": "ipython2",
   "version": "2.7.6"
  }
 },
 "nbformat": 4,
 "nbformat_minor": 5
}
