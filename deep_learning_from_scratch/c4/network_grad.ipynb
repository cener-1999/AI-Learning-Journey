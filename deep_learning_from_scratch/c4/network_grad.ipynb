{
 "cells": [
  {
   "cell_type": "code",
   "id": "initial_id",
   "metadata": {
    "collapsed": true,
    "ExecuteTime": {
     "end_time": "2024-09-09T19:39:20.571560Z",
     "start_time": "2024-09-09T19:39:20.468429Z"
    }
   },
   "source": [
    "import sys\n",
    "import os\n",
    "sys.path.append(os.pardir)\n",
    "\n",
    "import numpy as np\n",
    "from common.functions import softmax, cross_entropy_error\n",
    "from common.grad import numerical_gradient\n",
    "\n",
    "class SimpleNet:\n",
    "    def __init__(self):\n",
    "        self.W = np.random.randn(2, 3) # 使用高斯分布进行初始化\n",
    "\n",
    "\n",
    "    def predict(self, x):\n",
    "        return np.dot(x, self.W)\n",
    "\n",
    "\n",
    "    def loss(self, x, t):\n",
    "        z = self.predict(x)\n",
    "        p = softmax(z)\n",
    "        loss = cross_entropy_error(p, t)\n",
    "        return loss\n",
    "\n",
    "net = SimpleNet()\n",
    "net.W"
   ],
   "outputs": [
    {
     "data": {
      "text/plain": [
       "array([[ 0.82523912, -0.30447998,  0.90931488],\n",
       "       [ 0.04680012, -0.68667542,  1.43436369]])"
      ]
     },
     "execution_count": 1,
     "metadata": {},
     "output_type": "execute_result"
    }
   ],
   "execution_count": 1
  },
  {
   "metadata": {
    "ExecuteTime": {
     "end_time": "2024-09-09T19:39:21.711205Z",
     "start_time": "2024-09-09T19:39:21.703304Z"
    }
   },
   "cell_type": "code",
   "source": [
    "x = np.array([0.6, 0.9])\n",
    "t = np.array([0, 0, 1])\n",
    "\n",
    "net.predict(x), np.argmax(x), net.loss(x, t)"
   ],
   "id": "189e82863b45fca2",
   "outputs": [
    {
     "data": {
      "text/plain": [
       "(array([ 0.53726359, -0.80069587,  1.83651625]), 1, 0.29587034840954873)"
      ]
     },
     "execution_count": 2,
     "metadata": {},
     "output_type": "execute_result"
    }
   ],
   "execution_count": 2
  },
  {
   "metadata": {
    "ExecuteTime": {
     "end_time": "2024-09-09T19:39:22.878796Z",
     "start_time": "2024-09-09T19:39:22.870967Z"
    }
   },
   "cell_type": "code",
   "source": [
    "f = lambda w: net.loss(x, t)  # 伪函数\n",
    "numerical_gradient(f, net.W)"
   ],
   "id": "deb2502d1c69d651",
   "outputs": [
    {
     "data": {
      "text/plain": [
       "array([[ 0.12173011,  0.03193961, -0.15366972],\n",
       "       [ 0.18259516,  0.04790941, -0.23050458]])"
      ]
     },
     "execution_count": 3,
     "metadata": {},
     "output_type": "execute_result"
    }
   ],
   "execution_count": 3
  }
 ],
 "metadata": {
  "kernelspec": {
   "display_name": "Python 3",
   "language": "python",
   "name": "python3"
  },
  "language_info": {
   "codemirror_mode": {
    "name": "ipython",
    "version": 2
   },
   "file_extension": ".py",
   "mimetype": "text/x-python",
   "name": "python",
   "nbconvert_exporter": "python",
   "pygments_lexer": "ipython2",
   "version": "2.7.6"
  }
 },
 "nbformat": 4,
 "nbformat_minor": 5
}
