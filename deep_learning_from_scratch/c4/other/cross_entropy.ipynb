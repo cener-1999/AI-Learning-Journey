{
 "cells": [
  {
   "cell_type": "markdown",
   "id": "e516f990ed62d05",
   "metadata": {},
   "source": [
    "参考: \n",
    "- [交叉熵在机器学习中的使用](https://blog.csdn.net/tsyccnh/article/details/79163834)\n",
    "- wiki"
   ]
  },
  {
   "cell_type": "code",
   "execution_count": 1,
   "id": "initial_id",
   "metadata": {},
   "outputs": [],
   "source": [
    "from typing import Callable\n",
    "import numpy as np\n",
    "import matplotlib.pyplot as plt\n",
    "\n",
    "\n",
    "def show_function(data, func: Callable):\n",
    "    fig, ax = plt.subplots(figsize=(3, 2.7), layout='constrained')\n",
    "    ax.plot(data, func(data))"
   ]
  },
  {
   "cell_type": "markdown",
   "id": "241e434d58f43bc6",
   "metadata": {},
   "source": [
    "### 信息量\n",
    "\n",
    "信息量的想法是，比较不可能发生的事情，当它发生了，会提供更多的信息。\n",
    "\n",
    "$$I(x_0)=−\\log_{2}{(P(x_0))} $$\n",
    "\n"
   ]
  },
  {
   "cell_type": "code",
   "execution_count": 8,
   "id": "57e849473d406bb1",
   "metadata": {
    "ExecuteTime": {
     "end_time": "2024-09-09T14:11:24.740116Z",
     "start_time": "2024-09-09T14:11:24.732148Z"
    }
   },
   "outputs": [
    {
     "data": {
      "text/plain": [
       "(0.5145731728297583, 3.321928094887362)"
      ]
     },
     "execution_count": 8,
     "metadata": {},
     "output_type": "execute_result"
    }
   ],
   "source": [
    "def info(p: float):\n",
    "    return - np.log2(p)\n",
    "\n",
    "info(0.7), info(0.1)"
   ]
  },
  {
   "cell_type": "code",
   "execution_count": 12,
   "id": "640076ae61d2f2b9",
   "metadata": {
    "ExecuteTime": {
     "end_time": "2024-09-09T14:12:19.950391Z",
     "start_time": "2024-09-09T14:12:19.823890Z"
    }
   },
   "outputs": [
    {
     "data": {
      "image/png": "[encoded data removed]",
      "text/plain": [
       "<Figure size 300x270 with 1 Axes>"
      ]
     },
     "metadata": {},
     "output_type": "display_data"
    }
   ],
   "source": [
    "show_function(data=np.arange(0.0001, 1, 0.001), func=info)"
   ]
  },
  {
   "cell_type": "markdown",
   "id": "505a25549f2b4493",
   "metadata": {},
   "source": [
    "### 信息熵 entropy\n",
    "\n",
    "在信息论中，熵（英语：entropy，又称信息熵、信源熵、平均自信息量）是接收的每条消息中包含的信息的平均量。\n",
    "\n",
    "这里的“消息”代表来自分布或数据流中的事件、样本或特征。（熵最好理解为不确定性的量度而不是确定性的量度，因为越随机的信源的熵越大。）来自信源的另一个特征是样本的概率分布。\n"
   ]
  },
  {
   "cell_type": "code",
   "execution_count": 14,
   "id": "98f8fcdce4facb2f",
   "metadata": {
    "ExecuteTime": {
     "end_time": "2024-09-09T14:13:03.101929Z",
     "start_time": "2024-09-09T14:13:03.097443Z"
    }
   },
   "outputs": [
    {
     "data": {
      "text/plain": [
       "(1.8464393446710154, 1.0)"
      ]
     },
     "execution_count": 14,
     "metadata": {},
     "output_type": "execute_result"
    }
   ],
   "source": [
    "def entropy(p: np.array):\n",
    "    return -np.sum(p * np.log2(p))\n",
    "\n",
    "data1=np.array([0.3, 0.4, 0.1, 0.2])\n",
    "data2=np.array([0.5, 0.5])\n",
    "entropy(data1), entropy(data2)"
   ]
  },
  {
   "cell_type": "markdown",
   "id": "e1062cba401db48e",
   "metadata": {},
   "source": [
    "### 相对熵\n",
    "\n",
    "相对熵又称KL散度,如果我们对于同一个随机变量 x 有**两个单独的概率分布 P(x) 和 Q(x)**，我们可以使用 KL 散度（Kullback-Leibler (KL) divergence）来衡量这<u>两个分布的差异</u>\n",
    "\n",
    "DKL的值越小，表示q分布和p分布越接近\n",
    "\n",
    "In the context of machine learning, DKL(P‖Q) is often called the information gain achieved if P is used instead of Q.\n",
    "\n",
    "直观的理解就是如果用P来描述样本，那么就非常完美。而用Q来描述样本，虽然可以大致描述，但是不是那么的完美，信息量不足，需要额外的一些“信息增量”才能达到和P一样完美的描述。如果我们的Q通过反复训练，也能完美的描述样本，那么就不再需要额外的“信息增量”，Q等价于P。\n",
    "\n",
    "$$D_{KL}(P||Q) = \\displaystyle \\sum_i P_i \\log_2{\\frac {P_i}{Q_i}} $$\n",
    "\n",
    "KL散度仅当:\n",
    "- 概率P和Q各自总和均为1\n",
    "- 且对于任何i皆满足 Q(i)>0 及 P(i)>0时\n",
    "才有定义\n",
    "\n",
    "KL散度是两个概率分布P和Q差别的非对称性的度量。 KL散度是用来度量使用基于Q的分布来编码服从P的分布的样本所需的额外的平均比特数。\n",
    "\n",
    "\n",
    "**典型情况下，P表示数据的真实分布，Q表示数据的理论分布、估计的模型分布、或P的近似分布。**"
   ]
  },
  {
   "cell_type": "code",
   "execution_count": 27,
   "id": "4b555830aff7d275",
   "metadata": {
    "ExecuteTime": {
     "end_time": "2024-09-09T14:51:35.619624Z",
     "start_time": "2024-09-09T14:51:35.614998Z"
    }
   },
   "outputs": [
    {
     "data": {
      "text/plain": [
       "-0.4974496247480383"
      ]
     },
     "execution_count": 27,
     "metadata": {},
     "output_type": "execute_result"
    }
   ],
   "source": [
    "def relative_entropy(p: np.arange, q:np.arange):\n",
    "    if np.sum(p) != 1 or np.sum(p) != 1 or p.shape != q.shape:\n",
    "        return 'error'\n",
    "    \n",
    "    # 防止除以零或者计算 log(0) 的问题，可以加上一个小常数 epsilon\n",
    "    epsilon = 1e-10\n",
    "    p = np.clip(p, epsilon, 1)\n",
    "    q = np.clip(q, epsilon, 1)\n",
    "    \n",
    "    return np.sum(p * np.log(p / q))\n",
    "\n",
    "\n",
    "p=np.array([0.3, 0.4, 0.1, 0.2])\n",
    "q=np.array([0.5, 0.4, 0.5, 0.5])\n",
    "relative_entropy(p, q)"
   ]
  },
  {
   "cell_type": "markdown",
   "id": "1ff179ef6b1f9f05",
   "metadata": {},
   "source": [
    "## 交叉熵 Cross entropy\n",
    "\n",
    "在信息论中，基于相同事件测度的两个概率分布 `p`和`q`的交叉熵是指，当基于一个“非自然”（相对于“真实”分布`p`而言）的概率分布\n",
    "`q`进行编码时，在事件集合中唯一标识一个事件所需要的平均比特数（bit）。\n",
    "\n",
    "给定两个概率分布`p`和`q`, `p`相对于`q`的交叉熵定义为：\n",
    "$$H(p, q) = H(p) + D_{KL}(p||q)$$\n",
    "\n",
    "对于离散分布p, q, 则：\n",
    "$$H(p, q) = -\\sum_x p(x)log_2 {q(x)}$$\n"
   ]
  },
  {
   "cell_type": "code",
   "execution_count": 30,
   "id": "5ea9d66d8b6da3ca",
   "metadata": {
    "ExecuteTime": {
     "end_time": "2024-09-09T14:52:54.952045Z",
     "start_time": "2024-09-09T14:52:54.939401Z"
    }
   },
   "outputs": [
    {
     "data": {
      "text/plain": [
       "-1.1287712379549448"
      ]
     },
     "execution_count": 30,
     "metadata": {},
     "output_type": "execute_result"
    }
   ],
   "source": [
    "def cross_entropy(p: np.array, q: np.array):\n",
    "    epsilon = 1e-10\n",
    "    q = np.clip(q, epsilon, 1 - epsilon)\n",
    "    return np.sum(p * np.log2(q))\n",
    "\n",
    "p=np.array([0.3, 0.4, 0.1, 0.2])\n",
    "q=np.array([0.5, 0.4, 0.5, 0.5])\n",
    "cross_entropy(p, q)"
   ]
  }
 ],
 "metadata": {
  "kernelspec": {
   "display_name": "Python 3 (ipykernel)",
   "language": "python",
   "name": "python3"
  },
  "language_info": {
   "codemirror_mode": {
    "name": "ipython",
    "version": 3
   },
   "file_extension": ".py",
   "mimetype": "text/x-python",
   "name": "python",
   "nbconvert_exporter": "python",
   "pygments_lexer": "ipython3",
   "version": "3.11.0"
  }
 },
 "nbformat": 4,
 "nbformat_minor": 5
}
