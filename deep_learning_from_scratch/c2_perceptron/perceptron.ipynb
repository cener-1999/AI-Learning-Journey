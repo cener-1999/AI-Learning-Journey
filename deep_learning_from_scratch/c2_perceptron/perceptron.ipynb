{
 "cells": [
  {
   "metadata": {},
   "cell_type": "markdown",
   "source": "## Simple",
   "id": "41bbb3ea71ed3c58"
  },
  {
   "metadata": {},
   "cell_type": "code",
   "outputs": [
    {
     "data": {
      "text/plain": [
       "(False, False, False, True)"
      ]
     },
     "execution_count": 1,
     "metadata": {},
     "output_type": "execute_result"
    }
   ],
   "execution_count": 1,
   "source": [
    "def AND(x1, x2):\n",
    "    w1, w2, theta = 1, 1, 1\n",
    "    return w1*x1 + w2*x2 > theta\n",
    "\n",
    "AND(0, 0), AND(1, 0), AND(0, 1), AND(1, 1)"
   ],
   "id": "initial_id"
  },
  {
   "metadata": {},
   "cell_type": "code",
   "outputs": [
    {
     "data": {
      "text/plain": [
       "(False, True, True, True)"
      ]
     },
     "execution_count": 2,
     "metadata": {},
     "output_type": "execute_result"
    }
   ],
   "execution_count": 2,
   "source": [
    "def OR(x1, x2):\n",
    "    w1, w2, theta = 1, 1, 0.9\n",
    "    return w1*x1 + w2*x2 > theta\n",
    "\n",
    "OR(0, 0), OR(1, 0), OR(0, 1), OR(1, 1)"
   ],
   "id": "acf6d728609a4163"
  },
  {
   "metadata": {
    "ExecuteTime": {
     "end_time": "2024-09-04T16:01:19.458511Z",
     "start_time": "2024-09-04T16:01:19.449171Z"
    }
   },
   "cell_type": "code",
   "source": [
    "def NAND(x1, x2):\n",
    "    w1, w2, theta = -1, -1, -2\n",
    "    return w1*x1 + w2*x2 > theta\n",
    "\n",
    "NAND(0, 0), NAND(1, 0), NAND(0, 1), NAND(1, 1)"
   ],
   "id": "83d1096a434f905b",
   "outputs": [
    {
     "data": {
      "text/plain": [
       "(True, True, True, False)"
      ]
     },
     "execution_count": 3,
     "metadata": {},
     "output_type": "execute_result"
    }
   ],
   "execution_count": 3
  },
  {
   "metadata": {},
   "cell_type": "markdown",
   "source": "## 使用权重和偏置实现",
   "id": "5e69a87541c63d96"
  },
  {
   "metadata": {
    "ExecuteTime": {
     "end_time": "2024-09-04T16:09:03.248223Z",
     "start_time": "2024-09-04T16:09:03.059588Z"
    }
   },
   "cell_type": "code",
   "source": "import numpy as np",
   "id": "20e58da5a2c1aea5",
   "outputs": [],
   "execution_count": 5
  },
  {
   "metadata": {
    "ExecuteTime": {
     "end_time": "2024-09-04T16:11:06.309696Z",
     "start_time": "2024-09-04T16:11:06.302845Z"
    }
   },
   "cell_type": "code",
   "source": [
    "def AND(x1, x2):\n",
    "    x = np.array([x1, x2])\n",
    "    w = np.array([1, 1])\n",
    "    b = -1\n",
    "    return np.sum(x*w) + b > 0\n",
    "\n",
    "AND(0, 0), AND(1, 0), AND(0, 1), AND(1, 1)"
   ],
   "id": "28487abf990f38fe",
   "outputs": [
    {
     "data": {
      "text/plain": [
       "(False, False, False, True)"
      ]
     },
     "execution_count": 11,
     "metadata": {},
     "output_type": "execute_result"
    }
   ],
   "execution_count": 11
  },
  {
   "metadata": {
    "ExecuteTime": {
     "end_time": "2024-09-04T16:11:42.865582Z",
     "start_time": "2024-09-04T16:11:42.859811Z"
    }
   },
   "cell_type": "code",
   "source": [
    "def OR(x1, x2):\n",
    "    x = np.array([x1, x2])\n",
    "    w = np.array([1, 1])\n",
    "    b = -0.9\n",
    "    return np.sum(x*w) + b > 0\n",
    "\n",
    "OR(0, 0), OR(1, 0), OR(0, 1), OR(1, 1)"
   ],
   "id": "9803618371636f5",
   "outputs": [
    {
     "data": {
      "text/plain": [
       "(False, True, True, True)"
      ]
     },
     "execution_count": 13,
     "metadata": {},
     "output_type": "execute_result"
    }
   ],
   "execution_count": 13
  },
  {
   "metadata": {
    "ExecuteTime": {
     "end_time": "2024-09-04T16:12:26.619824Z",
     "start_time": "2024-09-04T16:12:26.612954Z"
    }
   },
   "cell_type": "code",
   "source": [
    "def NAND(x1, x2):\n",
    "    x = np.array([x1, x2])\n",
    "    w = np.array([-1, -1])\n",
    "    b = 1.1\n",
    "    return np.sum(x*w) + b > 0\n",
    "\n",
    "NAND(0, 0), NAND(1, 0), NAND(0, 1), NAND(1, 1)"
   ],
   "id": "6cf267063c7b3c76",
   "outputs": [
    {
     "data": {
      "text/plain": [
       "(True, True, True, False)"
      ]
     },
     "execution_count": 14,
     "metadata": {},
     "output_type": "execute_result"
    }
   ],
   "execution_count": 14
  },
  {
   "metadata": {},
   "cell_type": "markdown",
   "source": "## 使用多层感知门实现异或 multi-layered perceptron",
   "id": "5e890f0e6a3cb40a"
  },
  {
   "metadata": {
    "ExecuteTime": {
     "end_time": "2024-09-04T17:22:16.421498Z",
     "start_time": "2024-09-04T17:22:16.417350Z"
    }
   },
   "cell_type": "code",
   "source": [
    "def XOR(x1, x2):\n",
    "    s1 = NAND(x1, x2)\n",
    "    s2 = OR(x1, x2)\n",
    "    return AND(s1, s2)\n",
    "\n",
    "XOR(0, 0), XOR(1, 0), XOR(0, 1), XOR(1, 1)"
   ],
   "id": "63d17da7f1a30365",
   "outputs": [
    {
     "data": {
      "text/plain": [
       "(False, True, True, False)"
      ]
     },
     "execution_count": 18,
     "metadata": {},
     "output_type": "execute_result"
    }
   ],
   "execution_count": 18
  },
  {
   "metadata": {},
   "cell_type": "code",
   "outputs": [],
   "execution_count": null,
   "source": "",
   "id": "6f130d0a16c4ff70"
  }
 ],
 "metadata": {
  "kernelspec": {
   "display_name": "Python 3",
   "language": "python",
   "name": "python3"
  },
  "language_info": {
   "codemirror_mode": {
    "name": "ipython",
    "version": 2
   },
   "file_extension": ".py",
   "mimetype": "text/x-python",
   "name": "python",
   "nbconvert_exporter": "python",
   "pygments_lexer": "ipython2",
   "version": "2.7.6"
  }
 },
 "nbformat": 4,
 "nbformat_minor": 5
}
