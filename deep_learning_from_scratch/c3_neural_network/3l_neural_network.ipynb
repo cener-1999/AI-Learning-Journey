{
 "cells": [
  {
   "cell_type": "code",
   "id": "initial_id",
   "metadata": {
    "collapsed": true,
    "ExecuteTime": {
     "end_time": "2024-09-05T19:17:55.492395Z",
     "start_time": "2024-09-05T19:17:55.399696Z"
    }
   },
   "source": [
    "import numpy as np\n",
    "from typing import List, Callable\n",
    "\n",
    "class ActivationFunction(object):\n",
    "    def step_function(x: np.ndarray):\n",
    "        y = x > 0\n",
    "        return y.astype(np.int64)\n",
    "\n",
    "    def sigmoid_function(x: np.ndarray):\n",
    "        y = 1/ (np.exp(-x) + 1)\n",
    "        return y\n",
    "\n",
    "    def relu_function(x: np.ndarray):\n",
    "        return np.maximum(x, 0)\n",
    "\n",
    "    def identity_function(x: np.ndarray):\n",
    "        return x\n",
    "    \n",
    "    def softmax_function(a: np.array):\n",
    "        c = np.max(a)\n",
    "        exp_a = np.exp(a+c)\n",
    "        denominator = sum(exp_a)\n",
    "        return exp_a / denominator\n",
    "\n",
    "\n",
    "class NetworkLayer:\n",
    "    W: np.array\n",
    "    B: np.array\n",
    "    func: Callable\n",
    "\n",
    "    def __init__(self, W, B, func):\n",
    "        self.W = W\n",
    "        self.B = B\n",
    "        self.func = func\n",
    "\n",
    "\n",
    "class NeuralNetwork:\n",
    "    def __init__(self, layers: List[NetworkLayer]):\n",
    "        self.layers = layers\n",
    "    \n",
    "    def front_propagation(self, input_data: np.ndarray):\n",
    "        X = input_data\n",
    "        for layer in self.layers:\n",
    "            X = layer.func(np.dot(X, layer.W) + layer.B)\n",
    "        return X\n",
    "\n",
    "    def back_propagation(self):\n",
    "        pass"
   ],
   "outputs": [],
   "execution_count": 2
  },
  {
   "metadata": {
    "ExecuteTime": {
     "end_time": "2024-09-05T19:18:43.326547Z",
     "start_time": "2024-09-05T19:18:43.316781Z"
    }
   },
   "cell_type": "code",
   "source": [
    "W1 = np.array([[0.1, 0.3, 0.5], [0.2, 0.4, 0.6]])\n",
    "b1 = np.array([0.1, 0.2, 0.3])\n",
    "a1 = ActivationFunction.sigmoid_function\n",
    "\n",
    "W2 = np.array([[0.1, 0.4], [0.2, 0.5], [0.3, 0.6]])\n",
    "b2 = np.array([0.1, 0.2])\n",
    "a2 = ActivationFunction.sigmoid_function\n",
    "\n",
    "W3 = np.array([[0.1, 0.3], [0.2, 0.4]])\n",
    "b3 = np.array([0.1, 0.2])\n",
    "sigma = ActivationFunction.identity_function\n",
    "\n",
    "l1 = NetworkLayer(W1, b1, a1)\n",
    "l2 = NetworkLayer(W2, b2, a2)\n",
    "l3 = NetworkLayer(W3, b3, sigma)\n",
    "\n",
    "network = NeuralNetwork([l1, l2, l3])\n",
    "input_data = np.array([1.0, 0.5])\n",
    "network.front_propagation(input_data)"
   ],
   "id": "9a5cbde3762e7525",
   "outputs": [
    {
     "data": {
      "text/plain": [
       "array([0.31682708, 0.69627909])"
      ]
     },
     "execution_count": 4,
     "metadata": {},
     "output_type": "execute_result"
    }
   ],
   "execution_count": 4
  },
  {
   "metadata": {},
   "cell_type": "code",
   "outputs": [],
   "execution_count": null,
   "source": "",
   "id": "9ec89b1fc02dd578"
  },
  {
   "metadata": {},
   "cell_type": "code",
   "outputs": [],
   "execution_count": null,
   "source": "",
   "id": "f2b8f4d900bd9936"
  },
  {
   "metadata": {},
   "cell_type": "code",
   "outputs": [],
   "execution_count": null,
   "source": "",
   "id": "86f48f7d92509c4c"
  },
  {
   "metadata": {},
   "cell_type": "code",
   "outputs": [],
   "execution_count": null,
   "source": "",
   "id": "bd53823b575ab9f7"
  },
  {
   "metadata": {},
   "cell_type": "code",
   "outputs": [],
   "execution_count": null,
   "source": "",
   "id": "14f058eab3462e87"
  },
  {
   "metadata": {},
   "cell_type": "code",
   "outputs": [],
   "execution_count": null,
   "source": "",
   "id": "e14630053e4270d4"
  },
  {
   "metadata": {},
   "cell_type": "code",
   "outputs": [],
   "execution_count": null,
   "source": "",
   "id": "93ad94f996dde2ad"
  }
 ],
 "metadata": {
  "kernelspec": {
   "display_name": "Python 3",
   "language": "python",
   "name": "python3"
  },
  "language_info": {
   "codemirror_mode": {
    "name": "ipython",
    "version": 2
   },
   "file_extension": ".py",
   "mimetype": "text/x-python",
   "name": "python",
   "nbconvert_exporter": "python",
   "pygments_lexer": "ipython2",
   "version": "2.7.6"
  }
 },
 "nbformat": 4,
 "nbformat_minor": 5
}
