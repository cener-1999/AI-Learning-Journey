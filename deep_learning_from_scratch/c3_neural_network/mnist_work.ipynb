{
 "cells": [
  {
   "cell_type": "code",
   "id": "initial_id",
   "metadata": {
    "collapsed": true
   },
   "source": [
    "import sys\n",
    "import os\n",
    "sys.path.append(os.pardir)\n",
    "\n",
    "from dataset.mnist import load_mnist\n",
    "\n",
    "# 训练图片，训练标签    测试图片，测试标签\n",
    "(x_train, t_train), (x_test, t_test) = load_mnist(flatten=True, normalize=False)\n",
    "\n",
    "x_train.shape, t_train.shape, x_test.shape, t_test.shape"
   ],
   "outputs": [],
   "execution_count": null
  },
  {
   "metadata": {},
   "cell_type": "code",
   "source": [
    "from PIL import Image\n",
    "import numpy as np\n",
    "\n",
    "def show_img(img: np.matrix):\n",
    "    pil_img = Image.fromarray(np.uint8(img))\n",
    "    display(pil_img)\n",
    "\n",
    "print(t_train[0])\n",
    "show_img(x_train[0].reshape(28,28))"
   ],
   "id": "48e651fb78d5e9aa",
   "outputs": [],
   "execution_count": null
  },
  {
   "metadata": {
    "jupyter": {
     "is_executing": true
    },
    "ExecuteTime": {
     "start_time": "2024-09-05T22:02:31.317410Z"
    }
   },
   "cell_type": "code",
   "source": [
    "import pickle\n",
    "\n",
    "def sigmoid_function(x: np.ndarray):\n",
    "    y = 1/ (np.exp(-x) + 1)\n",
    "    return y\n",
    "\n",
    "def softmax_function(a: np.array):\n",
    "    c = np.max(a)\n",
    "    exp_a = np.exp(a+c)\n",
    "    denominator = sum(exp_a)\n",
    "    return exp_a / denominator\n",
    "\n",
    "def get_text_data():\n",
    "    (x_train, t_train), (x_test, t_test) = load_mnist(flatten=True, normalize=True, one_hot_label=False)\n",
    "    return x_test, t_test\n",
    "\n",
    "def init_network():\n",
    "    with open('sample_weight.pkl', 'rb') as f:\n",
    "        network = pickle.load(f)\n",
    "    return network\n",
    "\n",
    "def predict(network, x):\n",
    "    W1, W2, W3 = network['W1'], network['W2'], network['W3']\n",
    "    b1, b2, b3 = network['b1'], network['b2'], network['b3']\n",
    "    a1 = np.dot(x, W1) + b1\n",
    "    z1 = sigmoid_function(a1)\n",
    "    \n",
    "    a2 = np.dot(z1, W2) + b2\n",
    "    z2 = sigmoid_function(a2)\n",
    "    \n",
    "    a3 = np.dot(z2, W3) + b3\n",
    "    y = softmax_function(a3)\n",
    "    return y\n",
    "\n",
    "x, t = get_text_data()\n",
    "network = init_network()\n",
    "\n",
    "accuracy_cnt = 0\n",
    "for i in range(len(x)):\n",
    "    y = predict(network, x)\n",
    "    output_label = np.argmax(t)\n",
    "    if output_label == t[i]:\n",
    "        accuracy_cnt += 1\n",
    "\n",
    "accuracy_cnt / len(x)"
   ],
   "id": "1155293415e28ec8",
   "outputs": [],
   "execution_count": null
  },
  {
   "metadata": {},
   "cell_type": "code",
   "source": "",
   "id": "c302928d59d3ab40",
   "outputs": [],
   "execution_count": null
  }
 ],
 "metadata": {
  "kernelspec": {
   "display_name": "Python 3",
   "language": "python",
   "name": "python3"
  },
  "language_info": {
   "codemirror_mode": {
    "name": "ipython",
    "version": 2
   },
   "file_extension": ".py",
   "mimetype": "text/x-python",
   "name": "python",
   "nbconvert_exporter": "python",
   "pygments_lexer": "ipython2",
   "version": "2.7.6"
  }
 },
 "nbformat": 4,
 "nbformat_minor": 5
}
