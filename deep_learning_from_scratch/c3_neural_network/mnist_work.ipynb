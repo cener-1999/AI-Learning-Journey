{
 "cells": [
  {
   "cell_type": "code",
   "id": "initial_id",
   "metadata": {
    "collapsed": true
   },
   "source": [
    "import sys\n",
    "import os\n",
    "sys.path.append(os.pardir)\n",
    "\n",
    "from dataset.mnist import load_mnist\n",
    "\n",
    "# 训练图片，训练标签    测试图片，测试标签\n",
    "(x_train, t_train), (x_test, t_test) = load_mnist(flatten=True, normalize=False)\n",
    "\n",
    "x_train.shape, t_train.shape, x_test.shape, t_test.shape"
   ],
   "outputs": [],
   "execution_count": null
  },
  {
   "metadata": {},
   "cell_type": "code",
   "source": [
    "from PIL import Image\n",
    "import numpy as np\n",
    "\n",
    "def show_img(img: np.matrix):\n",
    "    pil_img = Image.fromarray(np.uint8(img))\n",
    "    display(pil_img)\n",
    "\n",
    "print(t_train[0])\n",
    "show_img(x_train[0].reshape(28,28))"
   ],
   "id": "48e651fb78d5e9aa",
   "outputs": [],
   "execution_count": null
  },
  {
   "metadata": {
    "ExecuteTime": {
     "end_time": "2024-09-09T11:46:45.851414Z",
     "start_time": "2024-09-09T11:46:45.302756Z"
    }
   },
   "cell_type": "code",
   "source": [
    "import pickle\n",
    "\n",
    "def sigmoid_function(x: np.ndarray):\n",
    "    y = 1/ (np.exp(-x) + 1)\n",
    "    return y\n",
    "\n",
    "def softmax_function(x: np.array):\n",
    "    if x.ndim == 2:\n",
    "        x = x.T\n",
    "        x = x - np.max(x, axis=0)\n",
    "        y = np.exp(x) / np.sum(np.exp(x), axis=0)\n",
    "        return y.T \n",
    "\n",
    "    x = x - np.max(x) # 溢出对策\n",
    "    return np.exp(x) / np.sum(np.exp(x))\n",
    "\n",
    "def get_test_data():\n",
    "    (x_train, t_train), (x_test, t_test) = load_mnist(flatten=True, normalize=True, one_hot_label=False)\n",
    "    return x_test, t_test\n",
    "\n",
    "def init_network():\n",
    "    with open('sample_weight.pkl', 'rb') as f:\n",
    "        network = pickle.load(f)\n",
    "    return network\n",
    "\n",
    "def predict(network, x):\n",
    "    W1, W2, W3 = network['W1'], network['W2'], network['W3']\n",
    "    b1, b2, b3 = network['b1'], network['b2'], network['b3']\n",
    "    a1 = np.dot(x, W1) + b1\n",
    "    z1 = sigmoid_function(a1)\n",
    "    \n",
    "    a2 = np.dot(z1, W2) + b2\n",
    "    z2 = sigmoid_function(a2)\n",
    "    \n",
    "    a3 = np.dot(z2, W3) + b3\n",
    "    y = softmax_function(a3)\n",
    "    return y\n",
    "\n",
    "x, t = get_test_data()\n",
    "network = init_network()\n",
    "\n",
    "accuracy_cnt = 0\n",
    "for i in range(len(x)):\n",
    "    y = predict(network, x[i])\n",
    "    output_label = np.argmax(y)\n",
    "    if output_label == t[i]:\n",
    "        accuracy_cnt += 1\n",
    "\n",
    "accuracy_cnt / len(x)"
   ],
   "id": "1155293415e28ec8",
   "outputs": [
    {
     "data": {
      "text/plain": [
       "0.9352"
      ]
     },
     "execution_count": 54,
     "metadata": {},
     "output_type": "execute_result"
    }
   ],
   "execution_count": 54
  },
  {
   "metadata": {},
   "cell_type": "markdown",
   "source": "## batch processing",
   "id": "b8375587591997b"
  },
  {
   "metadata": {
    "ExecuteTime": {
     "end_time": "2024-09-09T11:46:46.831014Z",
     "start_time": "2024-09-09T11:46:46.663761Z"
    }
   },
   "cell_type": "code",
   "source": [
    "x, t = get_test_data()\n",
    "network = init_network()\n",
    "\n",
    "batch_size = 100\n",
    "accuracy_cnt = 0\n",
    "\n",
    "for i in range(0, len(x), batch_size):\n",
    "    x_batch = x[i: i+batch_size]\n",
    "    y_batch = predict(network, x_batch)\n",
    "    output_labels = np.argmax(y_batch, axis=1)\n",
    "    accuracy_cnt += np.sum(output_labels == t[i:i+batch_size])\n",
    "\n",
    "accuracy_cnt / len(x)"
   ],
   "id": "60fe996297a77923",
   "outputs": [
    {
     "data": {
      "text/plain": [
       "0.9352"
      ]
     },
     "execution_count": 55,
     "metadata": {},
     "output_type": "execute_result"
    }
   ],
   "execution_count": 55
  },
  {
   "metadata": {},
   "cell_type": "code",
   "outputs": [],
   "execution_count": null,
   "source": "",
   "id": "a9dfdc3beebb3662"
  }
 ],
 "metadata": {
  "kernelspec": {
   "display_name": "Python 3",
   "language": "python",
   "name": "python3"
  },
  "language_info": {
   "codemirror_mode": {
    "name": "ipython",
    "version": 2
   },
   "file_extension": ".py",
   "mimetype": "text/x-python",
   "name": "python",
   "nbconvert_exporter": "python",
   "pygments_lexer": "ipython2",
   "version": "2.7.6"
  }
 },
 "nbformat": 4,
 "nbformat_minor": 5
}
