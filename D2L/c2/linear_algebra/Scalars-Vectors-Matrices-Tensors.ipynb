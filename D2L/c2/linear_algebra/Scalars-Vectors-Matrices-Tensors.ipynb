{
 "cells": [
  {
   "metadata": {},
   "cell_type": "markdown",
   "source": [
    "回答：\n",
    "1. Scalars, Vector, Matrices, Tensor 的含义，数学符号，在Pytorch中如何创建？\n",
    "2. Scalars -> Vector -> Matrices -> Tensor 直接的泛化关系\n",
    "3. 轴的概念是什么？"
   ],
   "id": "2545edd256bf86c1"
  },
  {
   "metadata": {},
   "cell_type": "code",
   "outputs": [],
   "execution_count": 2,
   "source": "import torch",
   "id": "initial_id"
  },
  {
   "metadata": {
    "ExecuteTime": {
     "end_time": "2024-08-29T16:54:28.017969Z",
     "start_time": "2024-08-29T16:54:27.967505Z"
    }
   },
   "cell_type": "code",
   "source": [
    "### Scalar\n",
    "\n",
    "x = torch.tensor(3.0)\n",
    "y = torch.tensor(2.0)\n",
    "x+y, x-y, x*y, x/y, x**y"
   ],
   "id": "6710e57be245ea4e",
   "outputs": [
    {
     "data": {
      "text/plain": [
       "(tensor(5.), tensor(1.), tensor(6.), tensor(1.5000), tensor(9.))"
      ]
     },
     "execution_count": 3,
     "metadata": {},
     "output_type": "execute_result"
    }
   ],
   "execution_count": 3
  },
  {
   "metadata": {
    "ExecuteTime": {
     "end_time": "2024-08-29T16:55:40.119201Z",
     "start_time": "2024-08-29T16:55:40.106190Z"
    }
   },
   "cell_type": "code",
   "source": [
    "### Vectors\n",
    "\n",
    "x = torch.arange(4)\n",
    "x"
   ],
   "id": "46493666498cbca0",
   "outputs": [
    {
     "data": {
      "text/plain": [
       "tensor([0, 1, 2, 3])"
      ]
     },
     "execution_count": 4,
     "metadata": {},
     "output_type": "execute_result"
    }
   ],
   "execution_count": 4
  },
  {
   "metadata": {
    "ExecuteTime": {
     "end_time": "2024-08-29T16:56:26.717843Z",
     "start_time": "2024-08-29T16:56:26.712703Z"
    }
   },
   "cell_type": "code",
   "source": "x[3]",
   "id": "9274fd3ce5121268",
   "outputs": [
    {
     "data": {
      "text/plain": [
       "tensor(3)"
      ]
     },
     "execution_count": 5,
     "metadata": {},
     "output_type": "execute_result"
    }
   ],
   "execution_count": 5
  },
  {
   "metadata": {
    "ExecuteTime": {
     "end_time": "2024-08-29T16:57:23.347486Z",
     "start_time": "2024-08-29T16:57:23.343386Z"
    }
   },
   "cell_type": "code",
   "source": [
    "print(len(x))\n",
    "print(x.shape)"
   ],
   "id": "a8240192c3a27a85",
   "outputs": [
    {
     "name": "stdout",
     "output_type": "stream",
     "text": [
      "4\n",
      "torch.Size([4])\n"
     ]
    }
   ],
   "execution_count": 6
  },
  {
   "metadata": {
    "ExecuteTime": {
     "end_time": "2024-08-29T16:59:09.961132Z",
     "start_time": "2024-08-29T16:59:09.952699Z"
    }
   },
   "cell_type": "code",
   "source": [
    "### Matrices\n",
    "A = torch.arange(20).reshape(5, 4)\n",
    "A"
   ],
   "id": "6484510f8bbdb98a",
   "outputs": [
    {
     "data": {
      "text/plain": [
       "tensor([[ 0,  1,  2,  3],\n",
       "        [ 4,  5,  6,  7],\n",
       "        [ 8,  9, 10, 11],\n",
       "        [12, 13, 14, 15],\n",
       "        [16, 17, 18, 19]])"
      ]
     },
     "execution_count": 8,
     "metadata": {},
     "output_type": "execute_result"
    }
   ],
   "execution_count": 8
  },
  {
   "metadata": {
    "ExecuteTime": {
     "end_time": "2024-08-29T16:59:36.470526Z",
     "start_time": "2024-08-29T16:59:36.466331Z"
    }
   },
   "cell_type": "code",
   "source": "A[1][2]",
   "id": "ea274d842c440e3f",
   "outputs": [
    {
     "data": {
      "text/plain": [
       "tensor(6)"
      ]
     },
     "execution_count": 9,
     "metadata": {},
     "output_type": "execute_result"
    }
   ],
   "execution_count": 9
  },
  {
   "metadata": {
    "ExecuteTime": {
     "end_time": "2024-08-29T17:00:48.574166Z",
     "start_time": "2024-08-29T17:00:48.563999Z"
    }
   },
   "cell_type": "code",
   "source": [
    "#### transpose\n",
    "A.T"
   ],
   "id": "c4038292c698a78f",
   "outputs": [
    {
     "data": {
      "text/plain": [
       "tensor([[ 0,  4,  8, 12, 16],\n",
       "        [ 1,  5,  9, 13, 17],\n",
       "        [ 2,  6, 10, 14, 18],\n",
       "        [ 3,  7, 11, 15, 19]])"
      ]
     },
     "execution_count": 10,
     "metadata": {},
     "output_type": "execute_result"
    }
   ],
   "execution_count": 10
  },
  {
   "metadata": {
    "ExecuteTime": {
     "end_time": "2024-08-29T17:02:54.123630Z",
     "start_time": "2024-08-29T17:02:54.116849Z"
    }
   },
   "cell_type": "code",
   "source": [
    "#### symmetric matrix\n",
    "B = torch.tensor([[1, 2, 3], \n",
    "                  [2, 0, 4], \n",
    "                  [3, 4, 5]])\n",
    "B == B.T"
   ],
   "id": "8335533bec9c613d",
   "outputs": [
    {
     "data": {
      "text/plain": [
       "tensor([[True, True, True],\n",
       "        [True, True, True],\n",
       "        [True, True, True]])"
      ]
     },
     "execution_count": 12,
     "metadata": {},
     "output_type": "execute_result"
    }
   ],
   "execution_count": 12
  },
  {
   "metadata": {
    "ExecuteTime": {
     "end_time": "2024-08-29T17:04:34.696077Z",
     "start_time": "2024-08-29T17:04:34.691989Z"
    }
   },
   "cell_type": "code",
   "source": [
    "### tensor\n",
    "X = torch.arange(24).reshape(2, 3, 4)\n",
    "X"
   ],
   "id": "e0b99875b18d594c",
   "outputs": [
    {
     "data": {
      "text/plain": [
       "tensor([[[ 0,  1,  2,  3],\n",
       "         [ 4,  5,  6,  7],\n",
       "         [ 8,  9, 10, 11]],\n",
       "\n",
       "        [[12, 13, 14, 15],\n",
       "         [16, 17, 18, 19],\n",
       "         [20, 21, 22, 23]]])"
      ]
     },
     "execution_count": 14,
     "metadata": {},
     "output_type": "execute_result"
    }
   ],
   "execution_count": 14
  },
  {
   "metadata": {},
   "cell_type": "code",
   "outputs": [],
   "execution_count": null,
   "source": "",
   "id": "18cb41c5dee15f1a"
  }
 ],
 "metadata": {
  "kernelspec": {
   "display_name": "Python 3",
   "language": "python",
   "name": "python3"
  },
  "language_info": {
   "codemirror_mode": {
    "name": "ipython",
    "version": 2
   },
   "file_extension": ".py",
   "mimetype": "text/x-python",
   "name": "python",
   "nbconvert_exporter": "python",
   "pygments_lexer": "ipython2",
   "version": "2.7.6"
  }
 },
 "nbformat": 4,
 "nbformat_minor": 5
}
