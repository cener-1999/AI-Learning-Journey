{
 "cells": [
  {
   "cell_type": "code",
   "id": "initial_id",
   "metadata": {
    "collapsed": true,
    "ExecuteTime": {
     "end_time": "2024-09-05T17:11:53.091176Z",
     "start_time": "2024-09-05T17:11:41.273071Z"
    }
   },
   "source": [
    "import pandas as pd\n",
    "from pandasai.llm import OpenAI\n",
    "from pandasai.schemas.df_config import Config\n",
    "from pandasai import SmartDataframe\n",
    "from settings import OPENAI_API_KEY\n",
    "import os\n",
    "\n",
    "os.environ['OPENAI_API_KEY'] = OPENAI_API_KEY\n",
    "\n",
    "df = pd.DataFrame({\"country\": \n",
    "                       [\"United States\", \"United Kingdom\", \"France\", \"Germany\", \"Italy\", \"Spain\", \"Canada\", \"Australia\", \"Japan\", \"China\"],  \n",
    "                   \"gdp\": [19294482071552, 2891615567872, 2411255037952, 3435817336832, 1745433788416, \n",
    "                           1181205135360, 1607402389504, 1490967855104, 4380756541440, 14631844184064],\n",
    "                   \"happiness_index\": [6.94, 7.16, 6.66, 7.07, 6.38, 6.4, 7.23, 7.22, 5.87, 5.12]  \n",
    "                   })\n",
    "\n",
    "smart_df = SmartDataframe(df=df, config=Config(llm=OpenAI()))\n",
    "smart_df.chat(\"Which are the 5 happiest countries?\")"
   ],
   "outputs": [
    {
     "name": "stdout",
     "output_type": "stream",
     "text": [
      "{'type': 'dataframe', 'value':           country             gdp  happiness_index\n",
      "6          Canada   1607402389504             7.23\n",
      "7       Australia   1490967855104             7.22\n",
      "1  United Kingdom   2891615567872             7.16\n",
      "3         Germany   3435817336832             7.07\n",
      "0   United States  19294482071552             6.94}\n"
     ]
    },
    {
     "data": {
      "text/plain": [
       "          country             gdp  happiness_index\n",
       "6          Canada   1607402389504             7.23\n",
       "7       Australia   1490967855104             7.22\n",
       "1  United Kingdom   2891615567872             7.16\n",
       "3         Germany   3435817336832             7.07\n",
       "0   United States  19294482071552             6.94"
      ],
      "text/html": [
       "<div>\n",
       "<style scoped>\n",
       "    .dataframe tbody tr th:only-of-type {\n",
       "        vertical-align: middle;\n",
       "    }\n",
       "\n",
       "    .dataframe tbody tr th {\n",
       "        vertical-align: top;\n",
       "    }\n",
       "\n",
       "    .dataframe thead th {\n",
       "        text-align: right;\n",
       "    }\n",
       "</style>\n",
       "<table border=\"1\" class=\"dataframe\">\n",
       "  <thead>\n",
       "    <tr style=\"text-align: right;\">\n",
       "      <th></th>\n",
       "      <th>country</th>\n",
       "      <th>gdp</th>\n",
       "      <th>happiness_index</th>\n",
       "    </tr>\n",
       "  </thead>\n",
       "  <tbody>\n",
       "    <tr>\n",
       "      <th>6</th>\n",
       "      <td>Canada</td>\n",
       "      <td>1607402389504</td>\n",
       "      <td>7.23</td>\n",
       "    </tr>\n",
       "    <tr>\n",
       "      <th>7</th>\n",
       "      <td>Australia</td>\n",
       "      <td>1490967855104</td>\n",
       "      <td>7.22</td>\n",
       "    </tr>\n",
       "    <tr>\n",
       "      <th>1</th>\n",
       "      <td>United Kingdom</td>\n",
       "      <td>2891615567872</td>\n",
       "      <td>7.16</td>\n",
       "    </tr>\n",
       "    <tr>\n",
       "      <th>3</th>\n",
       "      <td>Germany</td>\n",
       "      <td>3435817336832</td>\n",
       "      <td>7.07</td>\n",
       "    </tr>\n",
       "    <tr>\n",
       "      <th>0</th>\n",
       "      <td>United States</td>\n",
       "      <td>19294482071552</td>\n",
       "      <td>6.94</td>\n",
       "    </tr>\n",
       "  </tbody>\n",
       "</table>\n",
       "</div>"
      ]
     },
     "execution_count": 1,
     "metadata": {},
     "output_type": "execute_result"
    }
   ],
   "execution_count": 1
  },
  {
   "metadata": {},
   "cell_type": "code",
   "outputs": [],
   "execution_count": null,
   "source": "",
   "id": "8f3d163841904479"
  }
 ],
 "metadata": {
  "kernelspec": {
   "display_name": "Python 3",
   "language": "python",
   "name": "python3"
  },
  "language_info": {
   "codemirror_mode": {
    "name": "ipython",
    "version": 2
   },
   "file_extension": ".py",
   "mimetype": "text/x-python",
   "name": "python",
   "nbconvert_exporter": "python",
   "pygments_lexer": "ipython2",
   "version": "2.7.6"
  }
 },
 "nbformat": 4,
 "nbformat_minor": 5
}
