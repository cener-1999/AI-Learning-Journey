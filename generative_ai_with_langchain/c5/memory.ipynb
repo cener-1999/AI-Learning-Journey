{
 "cells": [
  {
   "metadata": {
    "ExecuteTime": {
     "end_time": "2024-09-03T20:39:16.865050Z",
     "start_time": "2024-09-03T20:39:16.860654Z"
    }
   },
   "cell_type": "code",
   "source": [
    "from pathlib import Path\n",
    "import sys\n",
    "\n",
    "cur_path = Path.cwd()\n",
    "root_path = cur_path.parent.parent.parent\n",
    "sys.path.append(str(root_path))\n",
    "from settings import set_environment\n",
    "\n",
    "set_environment()"
   ],
   "id": "44c8a66087115a6",
   "outputs": [],
   "execution_count": 2
  },
  {
   "metadata": {},
   "cell_type": "markdown",
   "source": [
    "这部分书里很多实现langchain已经弃用了\n",
    "TODO: 看看store, memory这几个部分的源码，总结一下"
   ],
   "id": "91da00e280bed918"
  },
  {
   "metadata": {},
   "cell_type": "markdown",
   "source": [
    "## ConversationBufferMemory\n",
    "\n",
    "- a simple wrapper that stores the messages in a variable\n",
    "- retains all previous interactions\n"
   ],
   "id": "357730668a7ca06a"
  },
  {
   "metadata": {},
   "cell_type": "markdown",
   "source": "以下是一个 Automatic history management 的例子",
   "id": "abc5b8ab973e5b13"
  },
  {
   "metadata": {
    "ExecuteTime": {
     "end_time": "2024-09-03T19:35:03.755351Z",
     "start_time": "2024-09-03T19:35:00.296989Z"
    }
   },
   "cell_type": "code",
   "source": [
    "from langchain_core.runnables.history import RunnableWithMessageHistory\n",
    "from langchain.prompts import ChatPromptTemplate, MessagesPlaceholder\n",
    "from langchain.memory import ConversationBufferMemory\n",
    "from langchain_openai import ChatOpenAI\n",
    "\n",
    "prompt = ChatPromptTemplate.from_messages(\n",
    "    [\n",
    "        (\n",
    "            \"system\",\n",
    "            \"You are a helpful assistant. Answer all questions to the best of your ability.\",\n",
    "        ),\n",
    "        MessagesPlaceholder(variable_name=\"history\"),\n",
    "    ]\n",
    ")\n",
    "llm = ChatOpenAI(model_name=\"gpt-4o-mini\", temperature=0, streaming=True)\n",
    "chain = prompt | llm\n",
    "\n",
    "memory = ConversationBufferMemory()\n",
    "chain_with_history = RunnableWithMessageHistory(\n",
    "    chain,\n",
    "    get_session_history=lambda session_id: memory.chat_memory,  # lambda 定义匿名函数, session_id 是参数名, memory 返回值\n",
    "    input_messages_key=\"input\",\n",
    "    history_messages_key=\"history\",\n",
    "    verbose=True\n",
    ")\n",
    "\n",
    "chain_with_history.invoke(input={'input': 'Hello'}, config={\"configurable\": {\"session_id\": \"foo\"}})\n",
    "chain_with_history.invoke(input={'input': 'How`s going on?'}, config={\"configurable\": {\"session_id\": \"foo\"}})\n",
    "print(memory.chat_memory.messages)"
   ],
   "id": "initial_id",
   "outputs": [
    {
     "name": "stdout",
     "output_type": "stream",
     "text": [
      "[HumanMessage(content='Hello'), AIMessage(content=\"Sure! I'm here to help. What questions do you have?\", response_metadata={'finish_reason': 'stop', 'model_name': 'gpt-4o-mini-2024-07-18', 'system_fingerprint': 'fp_9722793223'}, id='run-bd743dc3-549a-4ea6-8de8-dc0994d58f87-0'), HumanMessage(content='How`s going on?'), AIMessage(content='Hello! How can I assist you today?', response_metadata={'finish_reason': 'stop', 'model_name': 'gpt-4o-mini-2024-07-18', 'system_fingerprint': 'fp_f33667828e'}, id='run-88ed1613-546f-4aa7-a8cd-603f5d7ae1b1-0')]\n"
     ]
    }
   ],
   "execution_count": 29
  },
  {
   "metadata": {},
   "cell_type": "markdown",
   "source": [
    "## ConversationBufferWindowMemory \n",
    "- a memory type provided by LangChain that keeps track  of the interactions in a conversation over time.\n",
    "- only keeps the last k  interactions, where k is the window size specified."
   ],
   "id": "bf37457face197fe"
  },
  {
   "metadata": {
    "ExecuteTime": {
     "end_time": "2024-09-03T19:47:52.074576Z",
     "start_time": "2024-09-03T19:47:52.070960Z"
    }
   },
   "cell_type": "code",
   "source": [
    "from langchain.memory import ConversationBufferWindowMemory\n",
    "\n",
    "memory = ConversationBufferWindowMemory(k=2)"
   ],
   "id": "a911b3c47d224977",
   "outputs": [],
   "execution_count": 31
  },
  {
   "metadata": {
    "ExecuteTime": {
     "end_time": "2024-09-03T19:48:54.155827Z",
     "start_time": "2024-09-03T19:48:54.146800Z"
    }
   },
   "cell_type": "code",
   "source": [
    "memory.save_context(inputs={\"input\": \"hi\"}, outputs={\"output\": \"whats up\"})\n",
    "memory.save_context(inputs={\"input\": \"not much you\"}, outputs={\"output\": \"not much\"})\n",
    "memory.load_memory_variables({})"
   ],
   "id": "f0eac1f9f20fbeb",
   "outputs": [
    {
     "data": {
      "text/plain": [
       "{'history': 'Human: hi\\nAI: whats up\\nHuman: not much you\\nAI: not much'}"
      ]
     },
     "execution_count": 32,
     "metadata": {},
     "output_type": "execute_result"
    }
   ],
   "execution_count": 32
  },
  {
   "metadata": {},
   "cell_type": "markdown",
   "source": "## Customize Conversational Memory",
   "id": "ab5013bd43feac0c"
  },
  {
   "metadata": {
    "ExecuteTime": {
     "end_time": "2024-09-03T19:54:03.104747Z",
     "start_time": "2024-09-03T19:54:03.035318Z"
    }
   },
   "cell_type": "code",
   "source": [
    "from langchain.memory import ConversationBufferMemory\n",
    "from langchain_openai import ChatOpenAI\n",
    "from langchain.chains import ConversationChain\n",
    "from langchain.prompts import PromptTemplate\n",
    "\n",
    "llm = ChatOpenAI(model_name=\"gpt-4o-mini\", temperature=0, streaming=True)\n",
    "\n",
    "template = \"\"\"\n",
    "    The following is a friendly conversation between a human and an AI. The AI is talkative and provides lots \n",
    "    of specific details from its context. If the AI does not know the answer to a question, it truthfully \n",
    "    says it does not know.  \n",
    "    Current conversation:  {history}  Human: {input}  AI Assistant:\n",
    "    \"\"\"\n",
    "prompt = PromptTemplate(template=template, input_variables=[\"history\", \"input\"])\n",
    "conversation = ConversationChain(\n",
    "    prompt=prompt,  \n",
    "    llm=llm,  \n",
    "    verbose=True,  \n",
    "    memory=ConversationBufferMemory(ai_prefix=\"AI Assistant\"),\n",
    ")"
   ],
   "id": "d0a007ac0d87d34c",
   "outputs": [],
   "execution_count": 34
  },
  {
   "metadata": {},
   "cell_type": "markdown",
   "source": [
    "## ConversationSummaryMemory\n",
    "\n",
    "**Step**: \n",
    "1. create an instance of it, passing the language model (llm) as an argument.\n",
    "2. use the `save_context()` method to save the interaction context, which includes the user input and AI output\n",
    "3. To retrieve the summarized conversation history, use the `load_memory_variables()` method."
   ],
   "id": "56e2e929d6de937e"
  },
  {
   "metadata": {
    "ExecuteTime": {
     "end_time": "2024-09-03T19:58:12.446888Z",
     "start_time": "2024-09-03T19:58:09.726620Z"
    }
   },
   "cell_type": "code",
   "source": [
    "from langchain.memory import ConversationSummaryMemory\n",
    "from langchain_openai import ChatOpenAI\n",
    "\n",
    "llm = ChatOpenAI(model_name=\"gpt-4o-mini\", temperature=0, streaming=True)\n",
    "memory = ConversationSummaryMemory(llm=llm)\n",
    "memory.save_context({\"input\": \"hi\"}, {\"output\": \"whats up\"})\n",
    "memory.load_memory_variables({})"
   ],
   "id": "96dc8ab6c58af17e",
   "outputs": [
    {
     "data": {
      "text/plain": [
       "{'history': 'The human greets the AI with \"hi,\" and the AI responds by asking, \"what\\'s up?\"'}"
      ]
     },
     "execution_count": 36,
     "metadata": {},
     "output_type": "execute_result"
    }
   ],
   "execution_count": 36
  },
  {
   "metadata": {},
   "cell_type": "markdown",
   "source": [
    "## Storing knowledge graphs\n",
    "\n",
    "A knowledge graph is a **structured knowledge representation model** that organizes information in the form of: \n",
    "- **entities**: can be any concept, object, or thing in the world\n",
    "- **attributes**: describe the properties or characteristics of these entities\n",
    "- **relationships**: capture the connections and  associations between entities, providing contextual information and enabling semantic reasoning.\n",
    "\n",
    "It represents knowledge as a graph, where:\n",
    "- entities are represented as **nodes**\n",
    "- relationships between entities are represented as **edges**. \n",
    "\n",
    "There’s functionality in LangChain for knowledge graphs for retrieval; <BR>\n",
    "Provides memory components to automatically create a knowledge graph based on our conversation messages."
   ],
   "id": "8682da119c5c7b87"
  },
  {
   "metadata": {
    "ExecuteTime": {
     "end_time": "2024-09-03T20:18:45.066674Z",
     "start_time": "2024-09-03T20:18:42.515726Z"
    }
   },
   "cell_type": "code",
   "source": [
    "from langchain.memory import ConversationKGMemory\n",
    "from langchain_openai import ChatOpenAI\n",
    "from IPython.display import SVG\n",
    "\n",
    "llm = ChatOpenAI(model_name=\"gpt-4o-mini\", temperature=0, streaming=True)\n",
    "memory = ConversationKGMemory(llm=llm)\n",
    "memory.save_context({\"input\": \"hi\"}, {\"output\": \"whats up\"})\n",
    "memory.kg.draw_graphviz()"
   ],
   "id": "d115364dca3cffff",
   "outputs": [
    {
     "data": {
      "text/plain": [
       "<IPython.core.display.SVG object>"
      ]
     },
     "execution_count": 46,
     "metadata": {},
     "output_type": "execute_result"
    }
   ],
   "execution_count": 46
  },
  {
   "metadata": {},
   "cell_type": "markdown",
   "source": [
    "## Combining several memory mechanisms\n",
    "\n",
    "LangChain also allows combining multiple memory strategies using the CombinedMemory class.  This is useful when you want to maintain various aspects of the conversation history."
   ],
   "id": "1ec1fbff8493a89f"
  },
  {
   "metadata": {
    "ExecuteTime": {
     "end_time": "2024-09-03T20:16:26.977113Z",
     "start_time": "2024-09-03T20:16:23.936336Z"
    }
   },
   "cell_type": "code",
   "source": [
    "from langchain_openai import ChatOpenAI\n",
    "from langchain.memory import ConversationBufferMemory, ConversationSummaryBufferMemory, CombinedMemory\n",
    "from langchain.prompts import PromptTemplate\n",
    "from langchain.chains import ConversationChain\n",
    "\n",
    "llm = ChatOpenAI(model_name=\"gpt-4o-mini\", temperature=0, streaming=True)\n",
    "\n",
    "cov_memo = ConversationBufferMemory(memory_key=\"chat_history_lines\", input_key=\"input\")\n",
    "summary_memo = ConversationBufferMemory(llm=llm, input_key=\"input\")\n",
    "memory = CombinedMemory(memories=[cov_memo, summary_memo])\n",
    "\n",
    "TEMPLATE = \"\"\"\n",
    "    The following is a friendly conversation between a human and an AI. The AI is talkative and provides lots of specific details from its context. If the AI does not know the answer to a question, it truthfully says it does not know.\n",
    "    Summary of conversation:  {history}\n",
    "    Current conversation:  {chat_history_lines}\n",
    "    Human: {input}  AI:\n",
    "\"\"\"\n",
    "\n",
    "prompt = PromptTemplate(template=TEMPLATE, input_variables=[\"history\", \"input\", \"chat_ history_lines\"])\n",
    "conversation = ConversationChain(llm=llm, verbose=True, memory=memory, prompt=prompt)\n",
    "conversation.invoke(\"Hi!\")"
   ],
   "id": "960783babc781b98",
   "outputs": [
    {
     "name": "stdout",
     "output_type": "stream",
     "text": [
      "\n",
      "\n",
      "\u001B[1m> Entering new ConversationChain chain...\u001B[0m\n",
      "Prompt after formatting:\n",
      "\u001B[32;1m\u001B[1;3m\n",
      "    The following is a friendly conversation between a human and an AI. The AI is talkative and provides lots of specific details from its context. If the AI does not know the answer to a question, it truthfully says it does not know.\n",
      "    Summary of conversation:  \n",
      "    Current conversation:  \n",
      "    Human: Hi!  AI:\n",
      "\u001B[0m\n",
      "\n",
      "\u001B[1m> Finished chain.\u001B[0m\n"
     ]
    },
    {
     "data": {
      "text/plain": [
       "{'input': 'Hi!',\n",
       " 'chat_history_lines': '',\n",
       " 'history': '',\n",
       " 'response': \"Hello! How are you today? I'm here to chat about anything on your mind, whether it's a question, a topic you're interested in, or just some friendly banter. What would you like to talk about?\"}"
      ]
     },
     "execution_count": 43,
     "metadata": {},
     "output_type": "execute_result"
    }
   ],
   "execution_count": 43
  },
  {
   "metadata": {},
   "cell_type": "markdown",
   "source": [
    "## Long-term persistence\n",
    "\n",
    "Zep provides a persistent backend to store, summarize, and search chat histories using vector embeddings and auto-token counting.\n",
    "\n",
    "[Zep docs](https://help.getzep.com/concepts)"
   ],
   "id": "b156cd5b09fc56e0"
  },
  {
   "metadata": {
    "ExecuteTime": {
     "end_time": "2024-09-03T20:42:09.542012Z",
     "start_time": "2024-09-03T20:42:09.292800Z"
    }
   },
   "cell_type": "code",
   "source": [
    "from langchain_community.memory.zep_memory import ZepMemory\n",
    "from settings import get_zep_config\n",
    "import uuid\n",
    "\n",
    "zep_config = get_zep_config()\n",
    "session_id = str(uuid.uuid4())\n",
    "\n",
    "memory = ZepMemory(\n",
    "    session_id=session_id,\n",
    "    url=zep_config['url'],\n",
    "    api_key=zep_config['api_key'],\n",
    "    memory_key=\"chat_history\",\n",
    ")"
   ],
   "id": "171d4f3e6b244384",
   "outputs": [
    {
     "ename": "APIError",
     "evalue": "Failed to connect to Zep server. Please check that:\n         - the server is running \n         - the API URL is correct\n         - No other process is using the same port\n         : None",
     "output_type": "error",
     "traceback": [
      "\u001B[0;31m---------------------------------------------------------------------------\u001B[0m",
      "\u001B[0;31mConnectError\u001B[0m                              Traceback (most recent call last)",
      "File \u001B[0;32m~/opt/anaconda3/envs/agent/lib/python3.11/site-packages/httpx/_transports/default.py:69\u001B[0m, in \u001B[0;36mmap_httpcore_exceptions\u001B[0;34m()\u001B[0m\n\u001B[1;32m     66\u001B[0m     continue\n\u001B[1;32m     67\u001B[0m # We want to map to the most specific exception we can find.\n\u001B[1;32m     68\u001B[0m # Eg if `exc` is an `httpcore.ReadTimeout`, we want to map to\n\u001B[0;32m---> 69\u001B[0m # `httpx.ReadTimeout`, not just `httpx.TimeoutException`.\n\u001B[1;32m     70\u001B[0m if mapped_exc is None or issubclass(to_exc, mapped_exc):\n",
      "File \u001B[0;32m~/opt/anaconda3/envs/agent/lib/python3.11/site-packages/httpx/_transports/default.py:233\u001B[0m, in \u001B[0;36mhandle_request\u001B[0;34m(self, request)\u001B[0m\n\u001B[1;32m    230\u001B[0m         \u001B[38;5;28mself\u001B[39m\u001B[38;5;241m.\u001B[39m_pool\u001B[38;5;241m.\u001B[39mclose()\n\u001B[0;32m--> 233\u001B[0m \u001B[38;5;28;01mclass\u001B[39;00m \u001B[38;5;21;01mAsyncResponseStream\u001B[39;00m(AsyncByteStream):\n\u001B[1;32m    234\u001B[0m     \u001B[38;5;28;01mdef\u001B[39;00m \u001B[38;5;21m__init__\u001B[39m(\u001B[38;5;28mself\u001B[39m, httpcore_stream: typing\u001B[38;5;241m.\u001B[39mAsyncIterable[\u001B[38;5;28mbytes\u001B[39m]):\n",
      "File \u001B[0;32m~/opt/anaconda3/envs/agent/lib/python3.11/site-packages/httpcore/_sync/connection_pool.py:216\u001B[0m, in \u001B[0;36mhandle_request\u001B[0;34m(self, request)\u001B[0m\n\u001B[1;32m    213\u001B[0m \u001B[38;5;28;01mif\u001B[39;00m scheme \u001B[38;5;241m==\u001B[39m \u001B[38;5;124m\"\u001B[39m\u001B[38;5;124m\"\u001B[39m:\n\u001B[1;32m    214\u001B[0m     \u001B[38;5;28;01mraise\u001B[39;00m UnsupportedProtocol(\n\u001B[1;32m    215\u001B[0m         \u001B[38;5;124m\"\u001B[39m\u001B[38;5;124mRequest URL is missing an \u001B[39m\u001B[38;5;124m'\u001B[39m\u001B[38;5;124mhttp://\u001B[39m\u001B[38;5;124m'\u001B[39m\u001B[38;5;124m or \u001B[39m\u001B[38;5;124m'\u001B[39m\u001B[38;5;124mhttps://\u001B[39m\u001B[38;5;124m'\u001B[39m\u001B[38;5;124m protocol.\u001B[39m\u001B[38;5;124m\"\u001B[39m\n\u001B[0;32m--> 216\u001B[0m     )\n\u001B[1;32m    217\u001B[0m \u001B[38;5;28;01mif\u001B[39;00m scheme \u001B[38;5;129;01mnot\u001B[39;00m \u001B[38;5;129;01min\u001B[39;00m (\u001B[38;5;124m\"\u001B[39m\u001B[38;5;124mhttp\u001B[39m\u001B[38;5;124m\"\u001B[39m, \u001B[38;5;124m\"\u001B[39m\u001B[38;5;124mhttps\u001B[39m\u001B[38;5;124m\"\u001B[39m, \u001B[38;5;124m\"\u001B[39m\u001B[38;5;124mws\u001B[39m\u001B[38;5;124m\"\u001B[39m, \u001B[38;5;124m\"\u001B[39m\u001B[38;5;124mwss\u001B[39m\u001B[38;5;124m\"\u001B[39m):\n",
      "File \u001B[0;32m~/opt/anaconda3/envs/agent/lib/python3.11/site-packages/httpcore/_sync/connection_pool.py:196\u001B[0m, in \u001B[0;36mhandle_request\u001B[0;34m(self, request)\u001B[0m\n\u001B[1;32m      0\u001B[0m <Error retrieving source code with stack_data see ipython/ipython#13598>\n",
      "File \u001B[0;32m~/opt/anaconda3/envs/agent/lib/python3.11/site-packages/httpcore/_sync/connection.py:99\u001B[0m, in \u001B[0;36mhandle_request\u001B[0;34m(self, request)\u001B[0m\n\u001B[1;32m     98\u001B[0m \u001B[38;5;28;01mdef\u001B[39;00m \u001B[38;5;21m_connect\u001B[39m(\u001B[38;5;28mself\u001B[39m, request: Request) \u001B[38;5;241m-\u001B[39m\u001B[38;5;241m>\u001B[39m NetworkStream:\n\u001B[0;32m---> 99\u001B[0m     timeouts \u001B[38;5;241m=\u001B[39m request\u001B[38;5;241m.\u001B[39mextensions\u001B[38;5;241m.\u001B[39mget(\u001B[38;5;124m\"\u001B[39m\u001B[38;5;124mtimeout\u001B[39m\u001B[38;5;124m\"\u001B[39m, {})\n\u001B[1;32m    100\u001B[0m     sni_hostname \u001B[38;5;241m=\u001B[39m request\u001B[38;5;241m.\u001B[39mextensions\u001B[38;5;241m.\u001B[39mget(\u001B[38;5;124m\"\u001B[39m\u001B[38;5;124msni_hostname\u001B[39m\u001B[38;5;124m\"\u001B[39m, \u001B[38;5;28;01mNone\u001B[39;00m)\n",
      "File \u001B[0;32m~/opt/anaconda3/envs/agent/lib/python3.11/site-packages/httpcore/_sync/connection.py:76\u001B[0m, in \u001B[0;36mhandle_request\u001B[0;34m(self, request)\u001B[0m\n\u001B[1;32m     72\u001B[0m http2_negotiated \u001B[38;5;241m=\u001B[39m (\n\u001B[1;32m     73\u001B[0m     ssl_object \u001B[38;5;129;01mis\u001B[39;00m \u001B[38;5;129;01mnot\u001B[39;00m \u001B[38;5;28;01mNone\u001B[39;00m\n\u001B[1;32m     74\u001B[0m     \u001B[38;5;129;01mand\u001B[39;00m ssl_object\u001B[38;5;241m.\u001B[39mselected_alpn_protocol() \u001B[38;5;241m==\u001B[39m \u001B[38;5;124m\"\u001B[39m\u001B[38;5;124mh2\u001B[39m\u001B[38;5;124m\"\u001B[39m\n\u001B[1;32m     75\u001B[0m )\n\u001B[0;32m---> 76\u001B[0m \u001B[38;5;28;01mif\u001B[39;00m http2_negotiated \u001B[38;5;129;01mor\u001B[39;00m (\u001B[38;5;28mself\u001B[39m\u001B[38;5;241m.\u001B[39m_http2 \u001B[38;5;129;01mand\u001B[39;00m \u001B[38;5;129;01mnot\u001B[39;00m \u001B[38;5;28mself\u001B[39m\u001B[38;5;241m.\u001B[39m_http1):\n\u001B[1;32m     77\u001B[0m     \u001B[38;5;28;01mfrom\u001B[39;00m \u001B[38;5;21;01m.\u001B[39;00m\u001B[38;5;21;01mhttp2\u001B[39;00m \u001B[38;5;28;01mimport\u001B[39;00m HTTP2Connection\n",
      "File \u001B[0;32m~/opt/anaconda3/envs/agent/lib/python3.11/site-packages/httpcore/_sync/connection.py:122\u001B[0m, in \u001B[0;36m_connect\u001B[0;34m(self, request)\u001B[0m\n\u001B[1;32m    119\u001B[0m \u001B[38;5;28;01melse\u001B[39;00m:\n\u001B[1;32m    120\u001B[0m     kwargs \u001B[38;5;241m=\u001B[39m {\n\u001B[1;32m    121\u001B[0m         \u001B[38;5;124m\"\u001B[39m\u001B[38;5;124mpath\u001B[39m\u001B[38;5;124m\"\u001B[39m: \u001B[38;5;28mself\u001B[39m\u001B[38;5;241m.\u001B[39m_uds,\n\u001B[0;32m--> 122\u001B[0m         \u001B[38;5;124m\"\u001B[39m\u001B[38;5;124mtimeout\u001B[39m\u001B[38;5;124m\"\u001B[39m: timeout,\n\u001B[1;32m    123\u001B[0m         \u001B[38;5;124m\"\u001B[39m\u001B[38;5;124msocket_options\u001B[39m\u001B[38;5;124m\"\u001B[39m: \u001B[38;5;28mself\u001B[39m\u001B[38;5;241m.\u001B[39m_socket_options,\n\u001B[1;32m    124\u001B[0m     }\n\u001B[1;32m    125\u001B[0m     \u001B[38;5;28;01mwith\u001B[39;00m Trace(\n\u001B[1;32m    126\u001B[0m         \u001B[38;5;124m\"\u001B[39m\u001B[38;5;124mconnect_unix_socket\u001B[39m\u001B[38;5;124m\"\u001B[39m, logger, request, kwargs\n\u001B[1;32m    127\u001B[0m     ) \u001B[38;5;28;01mas\u001B[39;00m trace:\n",
      "File \u001B[0;32m~/opt/anaconda3/envs/agent/lib/python3.11/site-packages/httpcore/_backends/sync.py:205\u001B[0m, in \u001B[0;36mconnect_tcp\u001B[0;34m(self, host, port, timeout, local_address, socket_options)\u001B[0m\n\u001B[1;32m      0\u001B[0m <Error retrieving source code with stack_data see ipython/ipython#13598>\n",
      "File \u001B[0;32m~/opt/anaconda3/envs/agent/lib/python3.11/contextlib.py:155\u001B[0m, in \u001B[0;36m_GeneratorContextManager.__exit__\u001B[0;34m(self, typ, value, traceback)\u001B[0m\n\u001B[1;32m    154\u001B[0m \u001B[38;5;28;01mtry\u001B[39;00m:\n\u001B[0;32m--> 155\u001B[0m     \u001B[38;5;28mself\u001B[39m\u001B[38;5;241m.\u001B[39mgen\u001B[38;5;241m.\u001B[39mthrow(typ, value, traceback)\n\u001B[1;32m    156\u001B[0m \u001B[38;5;28;01mexcept\u001B[39;00m \u001B[38;5;167;01mStopIteration\u001B[39;00m \u001B[38;5;28;01mas\u001B[39;00m exc:\n\u001B[1;32m    157\u001B[0m     \u001B[38;5;66;03m# Suppress StopIteration *unless* it's the same exception that\u001B[39;00m\n\u001B[1;32m    158\u001B[0m     \u001B[38;5;66;03m# was passed to throw().  This prevents a StopIteration\u001B[39;00m\n\u001B[1;32m    159\u001B[0m     \u001B[38;5;66;03m# raised inside the \"with\" statement from being suppressed.\u001B[39;00m\n",
      "File \u001B[0;32m~/opt/anaconda3/envs/agent/lib/python3.11/site-packages/httpcore/_exceptions.py:14\u001B[0m, in \u001B[0;36mmap_exceptions\u001B[0;34m(map)\u001B[0m\n\u001B[1;32m     13\u001B[0m     \u001B[38;5;28;01mif\u001B[39;00m \u001B[38;5;28misinstance\u001B[39m(exc, from_exc):\n\u001B[0;32m---> 14\u001B[0m         \u001B[38;5;28;01mraise\u001B[39;00m to_exc(exc) \u001B[38;5;28;01mfrom\u001B[39;00m \u001B[38;5;21;01mexc\u001B[39;00m\n\u001B[1;32m     15\u001B[0m \u001B[38;5;28;01mraise\u001B[39;00m\n",
      "\u001B[0;31mConnectError\u001B[0m: [Errno 61] Connection refused",
      "\nThe above exception was the direct cause of the following exception:\n",
      "\u001B[0;31mConnectError\u001B[0m                              Traceback (most recent call last)",
      "File \u001B[0;32m~/opt/anaconda3/envs/agent/lib/python3.11/site-packages/zep_python/zep_client.py:115\u001B[0m, in \u001B[0;36mZepClient._healthcheck\u001B[0;34m(self, base_url)\u001B[0m\n\u001B[1;32m    114\u001B[0m \u001B[38;5;28;01mtry\u001B[39;00m:\n\u001B[0;32m--> 115\u001B[0m     response \u001B[38;5;241m=\u001B[39m \u001B[43mhttpx\u001B[49m\u001B[38;5;241;43m.\u001B[39;49m\u001B[43mget\u001B[49m\u001B[43m(\u001B[49m\u001B[43murl\u001B[49m\u001B[43m)\u001B[49m\n\u001B[1;32m    116\u001B[0m     \u001B[38;5;28;01mif\u001B[39;00m response\u001B[38;5;241m.\u001B[39mstatus_code \u001B[38;5;241m!=\u001B[39m \u001B[38;5;241m200\u001B[39m \u001B[38;5;129;01mor\u001B[39;00m response\u001B[38;5;241m.\u001B[39mtext \u001B[38;5;241m!=\u001B[39m \u001B[38;5;124m\"\u001B[39m\u001B[38;5;124m.\u001B[39m\u001B[38;5;124m\"\u001B[39m:\n",
      "File \u001B[0;32m~/opt/anaconda3/envs/agent/lib/python3.11/site-packages/httpx/_api.py:198\u001B[0m, in \u001B[0;36mget\u001B[0;34m(url, params, headers, cookies, auth, proxy, proxies, follow_redirects, cert, verify, timeout, trust_env)\u001B[0m\n\u001B[1;32m    181\u001B[0m \u001B[38;5;250m\u001B[39m\u001B[38;5;124;03m\"\"\"\u001B[39;00m\n\u001B[1;32m    182\u001B[0m \u001B[38;5;124;03mSends a `GET` request.\u001B[39;00m\n\u001B[1;32m    183\u001B[0m \n\u001B[0;32m   (...)\u001B[0m\n\u001B[1;32m    187\u001B[0m \u001B[38;5;124;03mon this function, as `GET` requests should not include a request body.\u001B[39;00m\n\u001B[1;32m    188\u001B[0m \u001B[38;5;124;03m\"\"\"\u001B[39;00m\n\u001B[1;32m    189\u001B[0m \u001B[38;5;28;01mreturn\u001B[39;00m request(\n\u001B[1;32m    190\u001B[0m     \u001B[38;5;124m\"\u001B[39m\u001B[38;5;124mGET\u001B[39m\u001B[38;5;124m\"\u001B[39m,\n\u001B[1;32m    191\u001B[0m     url,\n\u001B[1;32m    192\u001B[0m     params\u001B[38;5;241m=\u001B[39mparams,\n\u001B[1;32m    193\u001B[0m     headers\u001B[38;5;241m=\u001B[39mheaders,\n\u001B[1;32m    194\u001B[0m     cookies\u001B[38;5;241m=\u001B[39mcookies,\n\u001B[1;32m    195\u001B[0m     auth\u001B[38;5;241m=\u001B[39mauth,\n\u001B[1;32m    196\u001B[0m     proxies\u001B[38;5;241m=\u001B[39mproxies,\n\u001B[1;32m    197\u001B[0m     follow_redirects\u001B[38;5;241m=\u001B[39mfollow_redirects,\n\u001B[0;32m--> 198\u001B[0m     cert\u001B[38;5;241m=\u001B[39mcert,\n\u001B[1;32m    199\u001B[0m     verify\u001B[38;5;241m=\u001B[39mverify,\n\u001B[1;32m    200\u001B[0m     timeout\u001B[38;5;241m=\u001B[39mtimeout,\n\u001B[1;32m    201\u001B[0m     trust_env\u001B[38;5;241m=\u001B[39mtrust_env,\n\u001B[1;32m    202\u001B[0m )\n",
      "File \u001B[0;32m~/opt/anaconda3/envs/agent/lib/python3.11/site-packages/httpx/_api.py:106\u001B[0m, in \u001B[0;36mrequest\u001B[0;34m(method, url, params, content, data, files, json, headers, cookies, auth, proxy, proxies, timeout, follow_redirects, verify, cert, trust_env)\u001B[0m\n\u001B[1;32m     92\u001B[0m \u001B[38;5;28;01mwith\u001B[39;00m Client(\n\u001B[1;32m     93\u001B[0m     cookies\u001B[38;5;241m=\u001B[39mcookies,\n\u001B[1;32m     94\u001B[0m     proxies\u001B[38;5;241m=\u001B[39mproxies,\n\u001B[0;32m   (...)\u001B[0m\n\u001B[1;32m     98\u001B[0m     trust_env\u001B[38;5;241m=\u001B[39mtrust_env,\n\u001B[1;32m     99\u001B[0m ) \u001B[38;5;28;01mas\u001B[39;00m client:\n\u001B[1;32m    100\u001B[0m     \u001B[38;5;28;01mreturn\u001B[39;00m client\u001B[38;5;241m.\u001B[39mrequest(\n\u001B[1;32m    101\u001B[0m         method\u001B[38;5;241m=\u001B[39mmethod,\n\u001B[1;32m    102\u001B[0m         url\u001B[38;5;241m=\u001B[39murl,\n\u001B[1;32m    103\u001B[0m         content\u001B[38;5;241m=\u001B[39mcontent,\n\u001B[1;32m    104\u001B[0m         data\u001B[38;5;241m=\u001B[39mdata,\n\u001B[1;32m    105\u001B[0m         files\u001B[38;5;241m=\u001B[39mfiles,\n\u001B[0;32m--> 106\u001B[0m         json\u001B[38;5;241m=\u001B[39mjson,\n\u001B[1;32m    107\u001B[0m         params\u001B[38;5;241m=\u001B[39mparams,\n\u001B[1;32m    108\u001B[0m         headers\u001B[38;5;241m=\u001B[39mheaders,\n\u001B[1;32m    109\u001B[0m         auth\u001B[38;5;241m=\u001B[39mauth,\n\u001B[1;32m    110\u001B[0m         follow_redirects\u001B[38;5;241m=\u001B[39mfollow_redirects,\n\u001B[1;32m    111\u001B[0m     )\n",
      "File \u001B[0;32m~/opt/anaconda3/envs/agent/lib/python3.11/site-packages/httpx/_client.py:827\u001B[0m, in \u001B[0;36mrequest\u001B[0;34m(self, method, url, content, data, files, json, params, headers, cookies, auth, follow_redirects, timeout, extensions)\u001B[0m\n\u001B[1;32m    814\u001B[0m     \u001B[38;5;28;01mreturn\u001B[39;00m \u001B[38;5;28mself\u001B[39m\u001B[38;5;241m.\u001B[39msend(request, auth\u001B[38;5;241m=\u001B[39mauth, follow_redirects\u001B[38;5;241m=\u001B[39mfollow_redirects)\n\u001B[1;32m    816\u001B[0m \u001B[38;5;129m@contextmanager\u001B[39m\n\u001B[1;32m    817\u001B[0m \u001B[38;5;28;01mdef\u001B[39;00m \u001B[38;5;21mstream\u001B[39m(\n\u001B[1;32m    818\u001B[0m     \u001B[38;5;28mself\u001B[39m,\n\u001B[1;32m    819\u001B[0m     method: \u001B[38;5;28mstr\u001B[39m,\n\u001B[1;32m    820\u001B[0m     url: URLTypes,\n\u001B[1;32m    821\u001B[0m     \u001B[38;5;241m*\u001B[39m,\n\u001B[1;32m    822\u001B[0m     content: typing\u001B[38;5;241m.\u001B[39mOptional[RequestContent] \u001B[38;5;241m=\u001B[39m \u001B[38;5;28;01mNone\u001B[39;00m,\n\u001B[1;32m    823\u001B[0m     data: typing\u001B[38;5;241m.\u001B[39mOptional[RequestData] \u001B[38;5;241m=\u001B[39m \u001B[38;5;28;01mNone\u001B[39;00m,\n\u001B[1;32m    824\u001B[0m     files: typing\u001B[38;5;241m.\u001B[39mOptional[RequestFiles] \u001B[38;5;241m=\u001B[39m \u001B[38;5;28;01mNone\u001B[39;00m,\n\u001B[1;32m    825\u001B[0m     json: typing\u001B[38;5;241m.\u001B[39mOptional[typing\u001B[38;5;241m.\u001B[39mAny] \u001B[38;5;241m=\u001B[39m \u001B[38;5;28;01mNone\u001B[39;00m,\n\u001B[1;32m    826\u001B[0m     params: typing\u001B[38;5;241m.\u001B[39mOptional[QueryParamTypes] \u001B[38;5;241m=\u001B[39m \u001B[38;5;28;01mNone\u001B[39;00m,\n\u001B[0;32m--> 827\u001B[0m     headers: typing\u001B[38;5;241m.\u001B[39mOptional[HeaderTypes] \u001B[38;5;241m=\u001B[39m \u001B[38;5;28;01mNone\u001B[39;00m,\n\u001B[1;32m    828\u001B[0m     cookies: typing\u001B[38;5;241m.\u001B[39mOptional[CookieTypes] \u001B[38;5;241m=\u001B[39m \u001B[38;5;28;01mNone\u001B[39;00m,\n\u001B[1;32m    829\u001B[0m     auth: typing\u001B[38;5;241m.\u001B[39mUnion[AuthTypes, UseClientDefault, \u001B[38;5;28;01mNone\u001B[39;00m] \u001B[38;5;241m=\u001B[39m USE_CLIENT_DEFAULT,\n\u001B[1;32m    830\u001B[0m     follow_redirects: typing\u001B[38;5;241m.\u001B[39mUnion[\u001B[38;5;28mbool\u001B[39m, UseClientDefault] \u001B[38;5;241m=\u001B[39m USE_CLIENT_DEFAULT,\n\u001B[1;32m    831\u001B[0m     timeout: typing\u001B[38;5;241m.\u001B[39mUnion[TimeoutTypes, UseClientDefault] \u001B[38;5;241m=\u001B[39m USE_CLIENT_DEFAULT,\n\u001B[1;32m    832\u001B[0m     extensions: typing\u001B[38;5;241m.\u001B[39mOptional[RequestExtensions] \u001B[38;5;241m=\u001B[39m \u001B[38;5;28;01mNone\u001B[39;00m,\n\u001B[1;32m    833\u001B[0m ) \u001B[38;5;241m-\u001B[39m\u001B[38;5;241m>\u001B[39m typing\u001B[38;5;241m.\u001B[39mIterator[Response]:\n\u001B[1;32m    834\u001B[0m \u001B[38;5;250m    \u001B[39m\u001B[38;5;124;03m\"\"\"\u001B[39;00m\n\u001B[1;32m    835\u001B[0m \u001B[38;5;124;03m    Alternative to `httpx.request()` that streams the response body\u001B[39;00m\n\u001B[1;32m    836\u001B[0m \u001B[38;5;124;03m    instead of loading it into memory at once.\u001B[39;00m\n\u001B[0;32m   (...)\u001B[0m\n\u001B[1;32m    842\u001B[0m \u001B[38;5;124;03m    [0]: /quickstart#streaming-responses\u001B[39;00m\n\u001B[1;32m    843\u001B[0m \u001B[38;5;124;03m    \"\"\"\u001B[39;00m\n",
      "File \u001B[0;32m~/opt/anaconda3/envs/agent/lib/python3.11/site-packages/httpx/_client.py:914\u001B[0m, in \u001B[0;36msend\u001B[0;34m(self, request, stream, auth, follow_redirects)\u001B[0m\n\u001B[1;32m    913\u001B[0m \u001B[38;5;28;01mexcept\u001B[39;00m \u001B[38;5;167;01mBaseException\u001B[39;00m \u001B[38;5;28;01mas\u001B[39;00m exc:\n\u001B[0;32m--> 914\u001B[0m     response\u001B[38;5;241m.\u001B[39mclose()\n\u001B[1;32m    915\u001B[0m     \u001B[38;5;28;01mraise\u001B[39;00m exc\n",
      "File \u001B[0;32m~/opt/anaconda3/envs/agent/lib/python3.11/site-packages/httpx/_client.py:942\u001B[0m, in \u001B[0;36m_send_handling_auth\u001B[0;34m(self, request, auth, follow_redirects, history)\u001B[0m\n\u001B[1;32m    941\u001B[0m response\u001B[38;5;241m.\u001B[39mread()\n\u001B[0;32m--> 942\u001B[0m request \u001B[38;5;241m=\u001B[39m next_request\n\u001B[1;32m    943\u001B[0m history\u001B[38;5;241m.\u001B[39mappend(response)\n",
      "File \u001B[0;32m~/opt/anaconda3/envs/agent/lib/python3.11/site-packages/httpx/_client.py:979\u001B[0m, in \u001B[0;36m_send_handling_redirects\u001B[0;34m(self, request, follow_redirects, history)\u001B[0m\n\u001B[1;32m    978\u001B[0m \u001B[38;5;28;01mif\u001B[39;00m follow_redirects:\n\u001B[0;32m--> 979\u001B[0m     response\u001B[38;5;241m.\u001B[39mread()\n\u001B[1;32m    980\u001B[0m \u001B[38;5;28;01melse\u001B[39;00m:\n",
      "File \u001B[0;32m~/opt/anaconda3/envs/agent/lib/python3.11/site-packages/httpx/_client.py:1015\u001B[0m, in \u001B[0;36m_send_single_request\u001B[0;34m(self, request)\u001B[0m\n\u001B[1;32m   1011\u001B[0m response\u001B[38;5;241m.\u001B[39mdefault_encoding \u001B[38;5;241m=\u001B[39m \u001B[38;5;28mself\u001B[39m\u001B[38;5;241m.\u001B[39m_default_encoding\n\u001B[1;32m   1013\u001B[0m logger\u001B[38;5;241m.\u001B[39minfo(\n\u001B[1;32m   1014\u001B[0m     \u001B[38;5;124m'\u001B[39m\u001B[38;5;124mHTTP Request: \u001B[39m\u001B[38;5;132;01m%s\u001B[39;00m\u001B[38;5;124m \u001B[39m\u001B[38;5;132;01m%s\u001B[39;00m\u001B[38;5;124m \u001B[39m\u001B[38;5;124m\"\u001B[39m\u001B[38;5;132;01m%s\u001B[39;00m\u001B[38;5;124m \u001B[39m\u001B[38;5;132;01m%d\u001B[39;00m\u001B[38;5;124m \u001B[39m\u001B[38;5;132;01m%s\u001B[39;00m\u001B[38;5;124m\"\u001B[39m\u001B[38;5;124m'\u001B[39m,\n\u001B[0;32m-> 1015\u001B[0m     request\u001B[38;5;241m.\u001B[39mmethod,\n\u001B[1;32m   1016\u001B[0m     request\u001B[38;5;241m.\u001B[39murl,\n\u001B[1;32m   1017\u001B[0m     response\u001B[38;5;241m.\u001B[39mhttp_version,\n\u001B[1;32m   1018\u001B[0m     response\u001B[38;5;241m.\u001B[39mstatus_code,\n\u001B[1;32m   1019\u001B[0m     response\u001B[38;5;241m.\u001B[39mreason_phrase,\n\u001B[1;32m   1020\u001B[0m )\n\u001B[1;32m   1022\u001B[0m \u001B[38;5;28;01mreturn\u001B[39;00m response\n",
      "File \u001B[0;32m~/opt/anaconda3/envs/agent/lib/python3.11/site-packages/httpx/_transports/default.py:232\u001B[0m, in \u001B[0;36mhandle_request\u001B[0;34m(self, request)\u001B[0m\n\u001B[1;32m      0\u001B[0m <Error retrieving source code with stack_data see ipython/ipython#13598>\n",
      "File \u001B[0;32m~/opt/anaconda3/envs/agent/lib/python3.11/contextlib.py:155\u001B[0m, in \u001B[0;36m_GeneratorContextManager.__exit__\u001B[0;34m(self, typ, value, traceback)\u001B[0m\n\u001B[1;32m    154\u001B[0m \u001B[38;5;28;01mtry\u001B[39;00m:\n\u001B[0;32m--> 155\u001B[0m     \u001B[38;5;28mself\u001B[39m\u001B[38;5;241m.\u001B[39mgen\u001B[38;5;241m.\u001B[39mthrow(typ, value, traceback)\n\u001B[1;32m    156\u001B[0m \u001B[38;5;28;01mexcept\u001B[39;00m \u001B[38;5;167;01mStopIteration\u001B[39;00m \u001B[38;5;28;01mas\u001B[39;00m exc:\n\u001B[1;32m    157\u001B[0m     \u001B[38;5;66;03m# Suppress StopIteration *unless* it's the same exception that\u001B[39;00m\n\u001B[1;32m    158\u001B[0m     \u001B[38;5;66;03m# was passed to throw().  This prevents a StopIteration\u001B[39;00m\n\u001B[1;32m    159\u001B[0m     \u001B[38;5;66;03m# raised inside the \"with\" statement from being suppressed.\u001B[39;00m\n",
      "File \u001B[0;32m~/opt/anaconda3/envs/agent/lib/python3.11/site-packages/httpx/_transports/default.py:86\u001B[0m, in \u001B[0;36mmap_httpcore_exceptions\u001B[0;34m()\u001B[0m\n\u001B[1;32m     77\u001B[0m         \u001B[38;5;28;01mraise\u001B[39;00m mapped_exc(message) \u001B[38;5;28;01mfrom\u001B[39;00m \u001B[38;5;21;01mexc\u001B[39;00m\n\u001B[1;32m     80\u001B[0m HTTPCORE_EXC_MAP \u001B[38;5;241m=\u001B[39m {\n\u001B[1;32m     81\u001B[0m     httpcore\u001B[38;5;241m.\u001B[39mTimeoutException: TimeoutException,\n\u001B[1;32m     82\u001B[0m     httpcore\u001B[38;5;241m.\u001B[39mConnectTimeout: ConnectTimeout,\n\u001B[1;32m     83\u001B[0m     httpcore\u001B[38;5;241m.\u001B[39mReadTimeout: ReadTimeout,\n\u001B[1;32m     84\u001B[0m     httpcore\u001B[38;5;241m.\u001B[39mWriteTimeout: WriteTimeout,\n\u001B[1;32m     85\u001B[0m     httpcore\u001B[38;5;241m.\u001B[39mPoolTimeout: PoolTimeout,\n\u001B[0;32m---> 86\u001B[0m     httpcore\u001B[38;5;241m.\u001B[39mNetworkError: NetworkError,\n\u001B[1;32m     87\u001B[0m     httpcore\u001B[38;5;241m.\u001B[39mConnectError: ConnectError,\n\u001B[1;32m     88\u001B[0m     httpcore\u001B[38;5;241m.\u001B[39mReadError: ReadError,\n\u001B[1;32m     89\u001B[0m     httpcore\u001B[38;5;241m.\u001B[39mWriteError: WriteError,\n\u001B[1;32m     90\u001B[0m     httpcore\u001B[38;5;241m.\u001B[39mProxyError: ProxyError,\n\u001B[1;32m     91\u001B[0m     httpcore\u001B[38;5;241m.\u001B[39mUnsupportedProtocol: UnsupportedProtocol,\n\u001B[1;32m     92\u001B[0m     httpcore\u001B[38;5;241m.\u001B[39mProtocolError: ProtocolError,\n\u001B[1;32m     93\u001B[0m     httpcore\u001B[38;5;241m.\u001B[39mLocalProtocolError: LocalProtocolError,\n\u001B[1;32m     94\u001B[0m     httpcore\u001B[38;5;241m.\u001B[39mRemoteProtocolError: RemoteProtocolError,\n\u001B[1;32m     95\u001B[0m }\n\u001B[1;32m     98\u001B[0m \u001B[38;5;28;01mclass\u001B[39;00m \u001B[38;5;21;01mResponseStream\u001B[39;00m(SyncByteStream):\n",
      "\u001B[0;31mConnectError\u001B[0m: [Errno 61] Connection refused",
      "\nThe above exception was the direct cause of the following exception:\n",
      "\u001B[0;31mAPIError\u001B[0m                                  Traceback (most recent call last)",
      "Cell \u001B[0;32mIn[5], line 8\u001B[0m\n\u001B[1;32m      5\u001B[0m zep_config \u001B[38;5;241m=\u001B[39m get_zep_config()\n\u001B[1;32m      6\u001B[0m session_id \u001B[38;5;241m=\u001B[39m \u001B[38;5;28mstr\u001B[39m(uuid\u001B[38;5;241m.\u001B[39muuid4())\n\u001B[0;32m----> 8\u001B[0m memory \u001B[38;5;241m=\u001B[39m \u001B[43mZepMemory\u001B[49m\u001B[43m(\u001B[49m\n\u001B[1;32m      9\u001B[0m \u001B[43m    \u001B[49m\u001B[43msession_id\u001B[49m\u001B[38;5;241;43m=\u001B[39;49m\u001B[43msession_id\u001B[49m\u001B[43m,\u001B[49m\n\u001B[1;32m     10\u001B[0m \u001B[43m    \u001B[49m\u001B[43murl\u001B[49m\u001B[38;5;241;43m=\u001B[39;49m\u001B[43mzep_config\u001B[49m\u001B[43m[\u001B[49m\u001B[38;5;124;43m'\u001B[39;49m\u001B[38;5;124;43murl\u001B[39;49m\u001B[38;5;124;43m'\u001B[39;49m\u001B[43m]\u001B[49m\u001B[43m,\u001B[49m\n\u001B[1;32m     11\u001B[0m \u001B[43m    \u001B[49m\u001B[43mapi_key\u001B[49m\u001B[38;5;241;43m=\u001B[39;49m\u001B[43mzep_config\u001B[49m\u001B[43m[\u001B[49m\u001B[38;5;124;43m'\u001B[39;49m\u001B[38;5;124;43mapi_key\u001B[39;49m\u001B[38;5;124;43m'\u001B[39;49m\u001B[43m]\u001B[49m\u001B[43m,\u001B[49m\n\u001B[1;32m     12\u001B[0m \u001B[43m    \u001B[49m\u001B[43mmemory_key\u001B[49m\u001B[38;5;241;43m=\u001B[39;49m\u001B[38;5;124;43m\"\u001B[39;49m\u001B[38;5;124;43mchat_history\u001B[39;49m\u001B[38;5;124;43m\"\u001B[39;49m\u001B[43m,\u001B[49m\n\u001B[1;32m     13\u001B[0m \u001B[43m)\u001B[49m\n",
      "File \u001B[0;32m~/opt/anaconda3/envs/agent/lib/python3.11/site-packages/langchain_community/memory/zep_memory.py:91\u001B[0m, in \u001B[0;36mZepMemory.__init__\u001B[0;34m(self, session_id, url, api_key, output_key, input_key, return_messages, human_prefix, ai_prefix, memory_key)\u001B[0m\n\u001B[1;32m     56\u001B[0m \u001B[38;5;28;01mdef\u001B[39;00m \u001B[38;5;21m__init__\u001B[39m(\n\u001B[1;32m     57\u001B[0m     \u001B[38;5;28mself\u001B[39m,\n\u001B[1;32m     58\u001B[0m     session_id: \u001B[38;5;28mstr\u001B[39m,\n\u001B[0;32m   (...)\u001B[0m\n\u001B[1;32m     66\u001B[0m     memory_key: \u001B[38;5;28mstr\u001B[39m \u001B[38;5;241m=\u001B[39m \u001B[38;5;124m\"\u001B[39m\u001B[38;5;124mhistory\u001B[39m\u001B[38;5;124m\"\u001B[39m,\n\u001B[1;32m     67\u001B[0m ):\n\u001B[1;32m     68\u001B[0m \u001B[38;5;250m    \u001B[39m\u001B[38;5;124;03m\"\"\"Initialize ZepMemory.\u001B[39;00m\n\u001B[1;32m     69\u001B[0m \n\u001B[1;32m     70\u001B[0m \u001B[38;5;124;03m    Args:\u001B[39;00m\n\u001B[0;32m   (...)\u001B[0m\n\u001B[1;32m     89\u001B[0m \u001B[38;5;124;03m                                    chain's prompt template.\u001B[39;00m\n\u001B[1;32m     90\u001B[0m \u001B[38;5;124;03m    \"\"\"\u001B[39;00m  \u001B[38;5;66;03m# noqa: E501\u001B[39;00m\n\u001B[0;32m---> 91\u001B[0m     chat_message_history \u001B[38;5;241m=\u001B[39m \u001B[43mZepChatMessageHistory\u001B[49m\u001B[43m(\u001B[49m\n\u001B[1;32m     92\u001B[0m \u001B[43m        \u001B[49m\u001B[43msession_id\u001B[49m\u001B[38;5;241;43m=\u001B[39;49m\u001B[43msession_id\u001B[49m\u001B[43m,\u001B[49m\n\u001B[1;32m     93\u001B[0m \u001B[43m        \u001B[49m\u001B[43murl\u001B[49m\u001B[38;5;241;43m=\u001B[39;49m\u001B[43murl\u001B[49m\u001B[43m,\u001B[49m\n\u001B[1;32m     94\u001B[0m \u001B[43m        \u001B[49m\u001B[43mapi_key\u001B[49m\u001B[38;5;241;43m=\u001B[39;49m\u001B[43mapi_key\u001B[49m\u001B[43m,\u001B[49m\n\u001B[1;32m     95\u001B[0m \u001B[43m    \u001B[49m\u001B[43m)\u001B[49m\n\u001B[1;32m     96\u001B[0m     \u001B[38;5;28msuper\u001B[39m()\u001B[38;5;241m.\u001B[39m\u001B[38;5;21m__init__\u001B[39m(\n\u001B[1;32m     97\u001B[0m         chat_memory\u001B[38;5;241m=\u001B[39mchat_message_history,\n\u001B[1;32m     98\u001B[0m         output_key\u001B[38;5;241m=\u001B[39moutput_key,\n\u001B[0;32m   (...)\u001B[0m\n\u001B[1;32m    103\u001B[0m         memory_key\u001B[38;5;241m=\u001B[39mmemory_key,\n\u001B[1;32m    104\u001B[0m     )\n",
      "File \u001B[0;32m~/opt/anaconda3/envs/agent/lib/python3.11/site-packages/langchain_community/chat_message_histories/zep.py:86\u001B[0m, in \u001B[0;36mZepChatMessageHistory.__init__\u001B[0;34m(self, session_id, url, api_key)\u001B[0m\n\u001B[1;32m     80\u001B[0m \u001B[38;5;28;01mexcept\u001B[39;00m \u001B[38;5;167;01mImportError\u001B[39;00m:\n\u001B[1;32m     81\u001B[0m     \u001B[38;5;28;01mraise\u001B[39;00m \u001B[38;5;167;01mImportError\u001B[39;00m(\n\u001B[1;32m     82\u001B[0m         \u001B[38;5;124m\"\u001B[39m\u001B[38;5;124mCould not import zep-python package. \u001B[39m\u001B[38;5;124m\"\u001B[39m\n\u001B[1;32m     83\u001B[0m         \u001B[38;5;124m\"\u001B[39m\u001B[38;5;124mPlease install it with `pip install zep-python`.\u001B[39m\u001B[38;5;124m\"\u001B[39m\n\u001B[1;32m     84\u001B[0m     )\n\u001B[0;32m---> 86\u001B[0m \u001B[38;5;28mself\u001B[39m\u001B[38;5;241m.\u001B[39mzep_client \u001B[38;5;241m=\u001B[39m \u001B[43mZepClient\u001B[49m\u001B[43m(\u001B[49m\u001B[43mbase_url\u001B[49m\u001B[38;5;241;43m=\u001B[39;49m\u001B[43murl\u001B[49m\u001B[43m,\u001B[49m\u001B[43m \u001B[49m\u001B[43mapi_key\u001B[49m\u001B[38;5;241;43m=\u001B[39;49m\u001B[43mapi_key\u001B[49m\u001B[43m)\u001B[49m\n\u001B[1;32m     87\u001B[0m \u001B[38;5;28mself\u001B[39m\u001B[38;5;241m.\u001B[39msession_id \u001B[38;5;241m=\u001B[39m session_id\n",
      "File \u001B[0;32m~/opt/anaconda3/envs/agent/lib/python3.11/site-packages/zep_python/zep_client.py:88\u001B[0m, in \u001B[0;36mZepClient.__init__\u001B[0;34m(self, base_url, api_key)\u001B[0m\n\u001B[1;32m     81\u001B[0m \u001B[38;5;28mself\u001B[39m\u001B[38;5;241m.\u001B[39maclient \u001B[38;5;241m=\u001B[39m httpx\u001B[38;5;241m.\u001B[39mAsyncClient(\n\u001B[1;32m     82\u001B[0m     base_url\u001B[38;5;241m=\u001B[39m\u001B[38;5;28mself\u001B[39m\u001B[38;5;241m.\u001B[39mbase_url, headers\u001B[38;5;241m=\u001B[39mheaders, timeout\u001B[38;5;241m=\u001B[39mAPI_TIMEOUT\n\u001B[1;32m     83\u001B[0m )\n\u001B[1;32m     84\u001B[0m \u001B[38;5;28mself\u001B[39m\u001B[38;5;241m.\u001B[39mclient \u001B[38;5;241m=\u001B[39m httpx\u001B[38;5;241m.\u001B[39mClient(\n\u001B[1;32m     85\u001B[0m     base_url\u001B[38;5;241m=\u001B[39m\u001B[38;5;28mself\u001B[39m\u001B[38;5;241m.\u001B[39mbase_url, headers\u001B[38;5;241m=\u001B[39mheaders, timeout\u001B[38;5;241m=\u001B[39mAPI_TIMEOUT\n\u001B[1;32m     86\u001B[0m )\n\u001B[0;32m---> 88\u001B[0m \u001B[38;5;28;43mself\u001B[39;49m\u001B[38;5;241;43m.\u001B[39;49m\u001B[43m_healthcheck\u001B[49m\u001B[43m(\u001B[49m\u001B[43mbase_url\u001B[49m\u001B[43m)\u001B[49m\n\u001B[1;32m     90\u001B[0m \u001B[38;5;28mself\u001B[39m\u001B[38;5;241m.\u001B[39mmemory \u001B[38;5;241m=\u001B[39m MemoryClient(\u001B[38;5;28mself\u001B[39m\u001B[38;5;241m.\u001B[39maclient, \u001B[38;5;28mself\u001B[39m\u001B[38;5;241m.\u001B[39mclient)\n\u001B[1;32m     91\u001B[0m \u001B[38;5;28mself\u001B[39m\u001B[38;5;241m.\u001B[39mmessage \u001B[38;5;241m=\u001B[39m MessageClient(\u001B[38;5;28mself\u001B[39m\u001B[38;5;241m.\u001B[39maclient, \u001B[38;5;28mself\u001B[39m\u001B[38;5;241m.\u001B[39mclient)\n",
      "File \u001B[0;32m~/opt/anaconda3/envs/agent/lib/python3.11/site-packages/zep_python/zep_client.py:138\u001B[0m, in \u001B[0;36mZepClient._healthcheck\u001B[0;34m(self, base_url)\u001B[0m\n\u001B[1;32m    129\u001B[0m         warnings\u001B[38;5;241m.\u001B[39mwarn(\n\u001B[1;32m    130\u001B[0m             (\n\u001B[1;32m    131\u001B[0m                 \u001B[38;5;124m\"\u001B[39m\u001B[38;5;124mYou are using an incompatible Zep server version. Please\u001B[39m\u001B[38;5;124m\"\u001B[39m\n\u001B[0;32m   (...)\u001B[0m\n\u001B[1;32m    135\u001B[0m             stacklevel\u001B[38;5;241m=\u001B[39m\u001B[38;5;241m2\u001B[39m,\n\u001B[1;32m    136\u001B[0m         )\n\u001B[1;32m    137\u001B[0m \u001B[38;5;28;01mexcept\u001B[39;00m (httpx\u001B[38;5;241m.\u001B[39mConnectError, httpx\u001B[38;5;241m.\u001B[39mNetworkError, httpx\u001B[38;5;241m.\u001B[39mTimeoutException) \u001B[38;5;28;01mas\u001B[39;00m e:\n\u001B[0;32m--> 138\u001B[0m     \u001B[38;5;28;01mraise\u001B[39;00m APIError(\u001B[38;5;28;01mNone\u001B[39;00m, error_msg) \u001B[38;5;28;01mfrom\u001B[39;00m \u001B[38;5;21;01me\u001B[39;00m\n",
      "\u001B[0;31mAPIError\u001B[0m: Failed to connect to Zep server. Please check that:\n         - the server is running \n         - the API URL is correct\n         - No other process is using the same port\n         : None"
     ]
    }
   ],
   "execution_count": 5
  },
  {
   "metadata": {},
   "cell_type": "code",
   "outputs": [],
   "execution_count": null,
   "source": "",
   "id": "8c86a9109a973c80"
  },
  {
   "metadata": {},
   "cell_type": "code",
   "outputs": [],
   "execution_count": null,
   "source": "",
   "id": "84cf14fc9f1fac22"
  }
 ],
 "metadata": {
  "kernelspec": {
   "display_name": "Python 3",
   "language": "python",
   "name": "python3"
  },
  "language_info": {
   "codemirror_mode": {
    "name": "ipython",
    "version": 2
   },
   "file_extension": ".py",
   "mimetype": "text/x-python",
   "name": "python",
   "nbconvert_exporter": "python",
   "pygments_lexer": "ipython2",
   "version": "2.7.6"
  }
 },
 "nbformat": 4,
 "nbformat_minor": 5
}
