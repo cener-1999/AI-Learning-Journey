{
 "cells": [
  {
   "metadata": {},
   "cell_type": "markdown",
   "source": [
    "## Data Connection\n",
    "\n",
    "Includes:\n",
    "- data loaders\n",
    "- document transformers\n",
    "- embedding models\n",
    "- vector stores\n",
    "- retrievers\n",
    "\n",
    "![](retireval_system.png)"
   ],
   "id": "4ce1ef09698c9047"
  },
  {
   "metadata": {},
   "cell_type": "markdown",
   "source": [
    "### DocumentLoader\n",
    "Document loaders are used to load data from a source as Document objects, which consist of text and associated metadata.\n",
    "\n",
    "Document loaders have a `load()` method that loads data from the configured source and returns it as documents\n",
    "They may also have a `lazy_load()` method for loading data into **memory** as and when they are needed.\n",
    "\n",
    "Each document consists of :\n",
    "1. page_content (the text content of the document)\n",
    "2. metadata (associated metadata such as the source URL or title)"
   ],
   "id": "1e74426bf04293a0"
  },
  {
   "metadata": {
    "ExecuteTime": {
     "end_time": "2024-09-02T21:19:58.176273Z",
     "start_time": "2024-09-02T21:16:19.675013Z"
    }
   },
   "cell_type": "code",
   "source": [
    "from typing import Optional, List, Dict, Any\n",
    "\n",
    "from langchain_community.document_loaders import TextLoader, WikipediaLoader\n",
    "from langchain_core.callbacks import Callbacks\n",
    "\n",
    "# loading data from Text\n",
    "txt_loader = TextLoader(file_path=\"./tmp/langchain.txt\")\n",
    "txt_docs = txt_loader.load()\n",
    "\n",
    "wiki_loader = WikipediaLoader(query='LangChain')\n",
    "wiki_docs = wiki_loader.load()"
   ],
   "id": "5d9ff928b138f7b9",
   "outputs": [],
   "execution_count": 5
  },
  {
   "metadata": {},
   "cell_type": "markdown",
   "source": [
    "### retrievers\n",
    "Retrievers in LangChain are a type of component that is used to search and retrieve information  from a given index stored in a vector store as a backend, such as Chroma, to index and search  embeddings.\n",
    "\n",
    "A few examples of retrievers\n",
    "- BM25 Retriever\n",
    "- TF-IDF Retriever\n",
    "- Dense Retriever\n",
    "- KNN Retriever"
   ],
   "id": "336770555a628360"
  },
  {
   "metadata": {
    "ExecuteTime": {
     "end_time": "2024-09-02T21:37:03.240162Z",
     "start_time": "2024-09-02T21:37:03.222724Z"
    }
   },
   "cell_type": "code",
   "source": [
    "from langchain_community.retrievers import KNNRetriever, PubMedRetriever\n",
    "from langchain_openai.embeddings import OpenAIEmbeddings\n",
    "from langchain.schema import Document, BaseRetriever\n",
    "from local_settings import OPENAI_API_KEY"
   ],
   "id": "e6668ba6b9123d82",
   "outputs": [],
   "execution_count": 14
  },
  {
   "metadata": {
    "ExecuteTime": {
     "end_time": "2024-09-02T21:30:39.753753Z",
     "start_time": "2024-09-02T21:30:36.601583Z"
    }
   },
   "cell_type": "code",
   "source": [
    "# KNN Retriever\n",
    "words = [\"cat\", \"dog\", \"computer\", \"animal\"]\n",
    "embeddings = OpenAIEmbeddings(openai_api_key=OPENAI_API_KEY)\n",
    "knn_retriever = KNNRetriever.from_texts(texts=words, embeddings=embeddings)\n",
    "\n",
    "result = knn_retriever.invoke('dog')\n",
    "result"
   ],
   "id": "8cf3ea2f4d3b6043",
   "outputs": [
    {
     "data": {
      "text/plain": [
       "[Document(page_content='dog'),\n",
       " Document(page_content='animal'),\n",
       " Document(page_content='cat'),\n",
       " Document(page_content='computer')]"
      ]
     },
     "execution_count": 9,
     "metadata": {},
     "output_type": "execute_result"
    }
   ],
   "execution_count": 9
  },
  {
   "metadata": {
    "ExecuteTime": {
     "end_time": "2024-09-02T21:34:37.051923Z",
     "start_time": "2024-09-02T21:34:30.038880Z"
    }
   },
   "cell_type": "code",
   "source": [
    "# specialized retrievers -> biomedical\n",
    "pubmed_retriever = PubMedRetriever()\n",
    "documents = pubmed_retriever.invoke('COVID')\n",
    "for document in documents:\n",
    "    print(document.metadata['Title'])"
   ],
   "id": "f3907f4a4a53eab4",
   "outputs": [
    {
     "name": "stdout",
     "output_type": "stream",
     "text": [
      "{'@book': 'lactmed', '@part': 'Covid_vaccines', '#text': 'COVID-19 Vaccines'}\n",
      "Prescription Digital Therapeutics for Substance Use Disorder in Primary Care: Mixed Methods Evaluation of a Pilot Implementation Study.\n",
      "Nourishing the Infant Gut Microbiome to Support Immune Health: Protocol of SUN (Seeding Through Feeding) Randomized Controlled Trial.\n"
     ]
    }
   ],
   "execution_count": 13
  },
  {
   "metadata": {
    "ExecuteTime": {
     "end_time": "2024-09-02T21:39:50.212646Z",
     "start_time": "2024-09-02T21:39:50.164267Z"
    }
   },
   "cell_type": "code",
   "source": [
    "# Custom retrievers\n",
    "class MyRetriever(BaseRetriever):\n",
    "    def _get_relevant_documents(\n",
    "        self,\n",
    "        query: str,\n",
    "        *,\n",
    "        callbacks: Callbacks = None,\n",
    "        tags: Optional[List[str]] = None,\n",
    "        metadata: Optional[Dict[str, Any]] = None,\n",
    "        run_name: Optional[str] = None,\n",
    "        **kwargs: Any,\n",
    "    ) -> List[Document]:\n",
    "        # You can customize this method to perform any retrieval operations you need, such as querying  a database or searching through indexed documents.\n",
    "        pass"
   ],
   "id": "e029ea20b88983e6",
   "outputs": [
    {
     "ename": "NameError",
     "evalue": "name 'Callbacks' is not defined",
     "output_type": "error",
     "traceback": [
      "\u001B[0;31m---------------------------------------------------------------------------\u001B[0m",
      "\u001B[0;31mNameError\u001B[0m                                 Traceback (most recent call last)",
      "Cell \u001B[0;32mIn[15], line 2\u001B[0m\n\u001B[1;32m      1\u001B[0m \u001B[38;5;66;03m# Custom retrievers\u001B[39;00m\n\u001B[0;32m----> 2\u001B[0m \u001B[38;5;28;43;01mclass\u001B[39;49;00m\u001B[43m \u001B[49m\u001B[38;5;21;43;01mMyRetriever\u001B[39;49;00m\u001B[43m(\u001B[49m\u001B[43mBaseRetriever\u001B[49m\u001B[43m)\u001B[49m\u001B[43m:\u001B[49m\n\u001B[1;32m      3\u001B[0m \u001B[43m    \u001B[49m\u001B[38;5;28;43;01mdef\u001B[39;49;00m\u001B[43m \u001B[49m\u001B[38;5;21;43m_get_relevant_documents\u001B[39;49m\u001B[43m(\u001B[49m\n\u001B[1;32m      4\u001B[0m \u001B[43m        \u001B[49m\u001B[38;5;28;43mself\u001B[39;49m\u001B[43m,\u001B[49m\n\u001B[1;32m      5\u001B[0m \u001B[43m        \u001B[49m\u001B[43mquery\u001B[49m\u001B[43m:\u001B[49m\u001B[43m \u001B[49m\u001B[38;5;28;43mstr\u001B[39;49m\u001B[43m,\u001B[49m\n\u001B[0;32m   (...)\u001B[0m\n\u001B[1;32m     12\u001B[0m \u001B[43m    \u001B[49m\u001B[43m)\u001B[49m\u001B[43m \u001B[49m\u001B[38;5;241;43m-\u001B[39;49m\u001B[38;5;241;43m>\u001B[39;49m\u001B[43m \u001B[49m\u001B[43mList\u001B[49m\u001B[43m[\u001B[49m\u001B[43mDocument\u001B[49m\u001B[43m]\u001B[49m\u001B[43m:\u001B[49m\n\u001B[1;32m     13\u001B[0m \u001B[43m        \u001B[49m\u001B[38;5;66;43;03m# You can customize this method to perform any retrieval operations you need, such as querying  a database or searching through indexed documents.\u001B[39;49;00m\n\u001B[1;32m     14\u001B[0m \u001B[43m        \u001B[49m\u001B[38;5;28;43;01mpass\u001B[39;49;00m\n",
      "Cell \u001B[0;32mIn[15], line 7\u001B[0m, in \u001B[0;36mMyRetriever\u001B[0;34m()\u001B[0m\n\u001B[1;32m      2\u001B[0m \u001B[38;5;28;01mclass\u001B[39;00m \u001B[38;5;21;01mMyRetriever\u001B[39;00m(BaseRetriever):\n\u001B[1;32m      3\u001B[0m     \u001B[38;5;28;01mdef\u001B[39;00m \u001B[38;5;21m_get_relevant_documents\u001B[39m(\n\u001B[1;32m      4\u001B[0m         \u001B[38;5;28mself\u001B[39m,\n\u001B[1;32m      5\u001B[0m         query: \u001B[38;5;28mstr\u001B[39m,\n\u001B[1;32m      6\u001B[0m         \u001B[38;5;241m*\u001B[39m,\n\u001B[0;32m----> 7\u001B[0m         callbacks: \u001B[43mCallbacks\u001B[49m \u001B[38;5;241m=\u001B[39m \u001B[38;5;28;01mNone\u001B[39;00m,\n\u001B[1;32m      8\u001B[0m         tags: Optional[List[\u001B[38;5;28mstr\u001B[39m]] \u001B[38;5;241m=\u001B[39m \u001B[38;5;28;01mNone\u001B[39;00m,\n\u001B[1;32m      9\u001B[0m         metadata: Optional[Dict[\u001B[38;5;28mstr\u001B[39m, Any]] \u001B[38;5;241m=\u001B[39m \u001B[38;5;28;01mNone\u001B[39;00m,\n\u001B[1;32m     10\u001B[0m         run_name: Optional[\u001B[38;5;28mstr\u001B[39m] \u001B[38;5;241m=\u001B[39m \u001B[38;5;28;01mNone\u001B[39;00m,\n\u001B[1;32m     11\u001B[0m         \u001B[38;5;241m*\u001B[39m\u001B[38;5;241m*\u001B[39mkwargs: Any,\n\u001B[1;32m     12\u001B[0m     ) \u001B[38;5;241m-\u001B[39m\u001B[38;5;241m>\u001B[39m List[Document]:\n\u001B[1;32m     13\u001B[0m         \u001B[38;5;66;03m# You can customize this method to perform any retrieval operations you need, such as querying  a database or searching through indexed documents.\u001B[39;00m\n\u001B[1;32m     14\u001B[0m         \u001B[38;5;28;01mpass\u001B[39;00m\n",
      "\u001B[0;31mNameError\u001B[0m: name 'Callbacks' is not defined"
     ]
    }
   ],
   "execution_count": 15
  },
  {
   "metadata": {},
   "cell_type": "code",
   "outputs": [],
   "execution_count": null,
   "source": "",
   "id": "7c193dd0e86b7010"
  }
 ],
 "metadata": {
  "kernelspec": {
   "display_name": "Python 3",
   "language": "python",
   "name": "python3"
  },
  "language_info": {
   "codemirror_mode": {
    "name": "ipython",
    "version": 2
   },
   "file_extension": ".py",
   "mimetype": "text/x-python",
   "name": "python",
   "nbconvert_exporter": "python",
   "pygments_lexer": "ipython2",
   "version": "2.7.6"
  }
 },
 "nbformat": 4,
 "nbformat_minor": 5
}
