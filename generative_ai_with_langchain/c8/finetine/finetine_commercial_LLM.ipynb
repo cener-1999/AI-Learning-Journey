{
 "cells": [
  {
   "metadata": {},
   "cell_type": "code",
   "source": "pip install scikit-llm",
   "id": "1d83d43ca140456c",
   "outputs": [],
   "execution_count": null
  },
  {
   "metadata": {
    "ExecuteTime": {
     "end_time": "2024-09-19T22:46:33.663340Z",
     "start_time": "2024-09-19T22:46:33.654085Z"
    }
   },
   "cell_type": "code",
   "source": [
    "X_train = [\n",
    "    \"I was absolutely blown away by the performances in 'Summer's End'. The acting was top-notch, and the plot had me gripped from start to finish. A truly captivating cinematic experience that I would highly recommend.\",\n",
    "    \"The special effects in 'Star Battles: Nebula Conflict' were out of this world. I felt like I was actually in space. The storyline was incredibly engaging and left me wanting more. Excellent film.\",\n",
    "    \"'The Lost Symphony' was a masterclass in character development and storytelling. The score was hauntingly beautiful and complimented the intense, emotional scenes perfectly. Kudos to the director and cast for creating such a masterpiece.\",\n",
    "    \"I was pleasantly surprised by 'Love in the Time of Cholera'. The romantic storyline was heartwarming and the characters were incredibly realistic. The cinematography was also top-notch. A must-watch for all romance lovers.\",\n",
    "    \"I went into 'Marble Street' with low expectations, but I was pleasantly surprised. The suspense was well-maintained throughout, and the twist at the end was something I did not see coming. Bravo!\",\n",
    "    \"'The Great Plains' is a touching portrayal of life in rural America. The performances were heartfelt and the scenery was breathtaking. I was moved to tears by the end. It's a story that will stay with me for a long time.\",\n",
    "    \"The screenwriting in 'Under the Willow Tree' was superb. The dialogue felt real and the characters were well-rounded. The performances were also fantastic. I haven't enjoyed a movie this much in a while.\",\n",
    "    \"'Nightshade' is a brilliant take on the superhero genre. The protagonist was relatable and the villain was genuinely scary. The action sequences were thrilling and the storyline was engaging. I can't wait for the sequel.\",\n",
    "    \"The cinematography in 'Awakening' was nothing short of spectacular. The visuals alone are worth the ticket price. The storyline was unique and the performances were solid. An overall fantastic film.\",\n",
    "    \"'Eternal Embers' was a cinematic delight. The storytelling was original and the performances were exceptional. The director's vision was truly brought to life on the big screen. A must-see for all movie lovers.\"\n",
    "    ]\n",
    "\n",
    "y_train = ['positive',\n",
    "          'positive',\n",
    "          'positive',\n",
    "          'positive',\n",
    "          'positive',\n",
    "          'positive',\n",
    "          'positive',\n",
    "          'positive',\n",
    "          'positive',\n",
    "          'positive'\n",
    "           ]\n",
    "\n",
    "X_test = [\n",
    "    \"I was thoroughly disappointed with 'Silver Shadows'. The plot was confusing and the performances were lackluster. I wouldn't recommend wasting your time on this one.\",\n",
    "     \"'The Darkened Path' was a disaster. The storyline was unoriginal, the acting was wooden and the special effects were laughably bad. Save your money and skip this one.\",\n",
    "     \"I had high hopes for 'The Final Frontier', but it failed to deliver. The plot was full of holes and the characters were poorly developed. It was a disappointing experience.\",\n",
    "     \"'The Fall of the Phoenix' was a letdown. The storyline was confusing and the characters were one-dimensional. I found myself checking my watch multiple times throughout the movie.\",\n",
    "     \"I regret wasting my time on 'Emerald City'. The plot was nonsensical and the performances were uninspired. It was a major disappointment.\"\n",
    "    ]"
   ],
   "id": "7d68f3411876e96b",
   "outputs": [],
   "execution_count": 11
  },
  {
   "metadata": {},
   "cell_type": "raw",
   "source": [
    "## Palm2\n",
    "\n",
    "[medium note](https://medium.com/@iryna230520/fine-tune-google-palm-2-with-scikit-llm-d41b0aa673a5)\n",
    "\n",
    "Fail, because of PR_END_OF_FILE_ERROR"
   ],
   "id": "74005a42ec009b92",
   "outputs": null,
   "execution_count": null
  },
  {
   "metadata": {},
   "cell_type": "code",
   "source": [
    "from skllm.models.palm import PaLMClassifier\n",
    "clf = PaLMClassifier(n_update_steps=100)\n",
    "clf.fit(X_train, y_train) # y_train is a list of labels\n",
    "labels = clf.predict(X_test)"
   ],
   "id": "3c0bd4e18e9ca9cb",
   "outputs": [],
   "execution_count": null
  },
  {
   "metadata": {},
   "cell_type": "markdown",
   "source": [
    "## OpenAI\n",
    "\n",
    "[OpenAI Guide](https://platform.openai.com/docs/guides/fine-tuning)"
   ],
   "id": "8074a20570f62d4"
  },
  {
   "metadata": {
    "ExecuteTime": {
     "end_time": "2024-09-19T22:53:04.001410Z",
     "start_time": "2024-09-19T22:53:03.995982Z"
    }
   },
   "cell_type": "code",
   "source": [
    "import os\n",
    "from settings import OPENAI_API_KEY\n",
    "\n",
    "os.environ['SKLLM_CONFIG_OPENAI_KEY'] = OPENAI_API_KEY"
   ],
   "id": "c8dd890e212e5e52",
   "outputs": [],
   "execution_count": 21
  },
  {
   "metadata": {
    "ExecuteTime": {
     "end_time": "2024-09-19T23:01:57.477354Z",
     "start_time": "2024-09-19T22:53:06.694247Z"
    }
   },
   "cell_type": "code",
   "source": [
    "from skllm.models.gpt.classification.tunable import GPTClassifier\n",
    "\n",
    "clf = GPTClassifier(  \n",
    "    base_model = \"gpt-3.5-turbo-0125\",  \n",
    "    n_epochs = None,\n",
    "    default_label = \"Random\",\n",
    "    )\n",
    "clf.fit(X_train, y_train)\n",
    "labels = clf.predict(X_test)\n",
    "labels"
   ],
   "id": "ebc6bf138e957e09",
   "outputs": [
    {
     "name": "stdout",
     "output_type": "stream",
     "text": [
      "Created new file. FILE_ID = file-PQJxkxKvdcX2Y47SVpxkPSMy\n",
      "Waiting for file to be processed ...\n",
      "Created new tuning job. JOB_ID = ftjob-eF046VE5b9y8zUaKqXhUjX0p\n",
      "[2024-09-20 06:53:13.288742] Waiting for tuning job to complete. Current status: validating_files\n",
      "[2024-09-20 06:55:16.080259] Waiting for tuning job to complete. Current status: running\n",
      "[2024-09-20 06:57:18.804657] Waiting for tuning job to complete. Current status: running\n",
      "[2024-09-20 06:59:21.070114] Waiting for tuning job to complete. Current status: running\n",
      "Finished training.\n"
     ]
    },
    {
     "name": "stderr",
     "output_type": "stream",
     "text": [
      "100%|██████████| 5/5 [00:33<00:00,  6.63s/it]\n"
     ]
    },
    {
     "data": {
      "text/plain": [
       "array(['positive', 'positive', 'positive', 'positive', 'positive'],\n",
       "      dtype='<U8')"
      ]
     },
     "execution_count": 22,
     "metadata": {},
     "output_type": "execute_result"
    }
   ],
   "execution_count": 22
  },
  {
   "metadata": {},
   "cell_type": "code",
   "outputs": [],
   "execution_count": null,
   "source": "",
   "id": "bbd9a39acce498da"
  }
 ],
 "metadata": {
  "kernelspec": {
   "display_name": "Python 3",
   "language": "python",
   "name": "python3"
  },
  "language_info": {
   "codemirror_mode": {
    "name": "ipython",
    "version": 2
   },
   "file_extension": ".py",
   "mimetype": "text/x-python",
   "name": "python",
   "nbconvert_exporter": "python",
   "pygments_lexer": "ipython2",
   "version": "2.7.6"
  }
 },
 "nbformat": 4,
 "nbformat_minor": 5
}
